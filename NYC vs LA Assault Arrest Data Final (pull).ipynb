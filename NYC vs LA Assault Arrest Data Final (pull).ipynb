{
 "cells": [
  {
   "cell_type": "code",
   "execution_count": 1,
   "metadata": {},
   "outputs": [],
   "source": [
    "import pandas as pd\n",
    "import datetime\n",
    "import matplotlib.pyplot as plt\n",
    "import numpy as np"
   ]
  },
  {
   "cell_type": "code",
   "execution_count": 2,
   "metadata": {},
   "outputs": [
    {
     "data": {
      "text/html": [
       "<div>\n",
       "<style scoped>\n",
       "    .dataframe tbody tr th:only-of-type {\n",
       "        vertical-align: middle;\n",
       "    }\n",
       "\n",
       "    .dataframe tbody tr th {\n",
       "        vertical-align: top;\n",
       "    }\n",
       "\n",
       "    .dataframe thead th {\n",
       "        text-align: right;\n",
       "    }\n",
       "</style>\n",
       "<table border=\"1\" class=\"dataframe\">\n",
       "  <thead>\n",
       "    <tr style=\"text-align: right;\">\n",
       "      <th></th>\n",
       "      <th>Unnamed: 0</th>\n",
       "      <th>ARREST_DATE</th>\n",
       "      <th>PD_DESC</th>\n",
       "      <th>OFNS_DESC</th>\n",
       "      <th>AGE_GROUP</th>\n",
       "      <th>PERP_SEX</th>\n",
       "      <th>PERP_RACE</th>\n",
       "      <th>Latitude</th>\n",
       "      <th>Longitude</th>\n",
       "    </tr>\n",
       "  </thead>\n",
       "  <tbody>\n",
       "    <tr>\n",
       "      <td>0</td>\n",
       "      <td>3</td>\n",
       "      <td>12/31/2017</td>\n",
       "      <td>ASSAULT 3</td>\n",
       "      <td>ASSAULT 3 &amp; RELATED OFFENSES</td>\n",
       "      <td>25-44</td>\n",
       "      <td>M</td>\n",
       "      <td>WHITE</td>\n",
       "      <td>40.763523</td>\n",
       "      <td>-73.987074</td>\n",
       "    </tr>\n",
       "    <tr>\n",
       "      <td>1</td>\n",
       "      <td>4</td>\n",
       "      <td>12/31/2017</td>\n",
       "      <td>ASSAULT 3</td>\n",
       "      <td>ASSAULT 3 &amp; RELATED OFFENSES</td>\n",
       "      <td>45-64</td>\n",
       "      <td>M</td>\n",
       "      <td>BLACK</td>\n",
       "      <td>40.759768</td>\n",
       "      <td>-73.989811</td>\n",
       "    </tr>\n",
       "    <tr>\n",
       "      <td>2</td>\n",
       "      <td>6</td>\n",
       "      <td>12/31/2017</td>\n",
       "      <td>ASSAULT 3</td>\n",
       "      <td>ASSAULT 3 &amp; RELATED OFFENSES</td>\n",
       "      <td>18-24</td>\n",
       "      <td>F</td>\n",
       "      <td>WHITE HISPANIC</td>\n",
       "      <td>40.722199</td>\n",
       "      <td>-73.977122</td>\n",
       "    </tr>\n",
       "    <tr>\n",
       "      <td>3</td>\n",
       "      <td>8</td>\n",
       "      <td>12/31/2017</td>\n",
       "      <td>ASSAULT 3</td>\n",
       "      <td>ASSAULT 3 &amp; RELATED OFFENSES</td>\n",
       "      <td>25-44</td>\n",
       "      <td>M</td>\n",
       "      <td>BLACK HISPANIC</td>\n",
       "      <td>40.787496</td>\n",
       "      <td>-73.949752</td>\n",
       "    </tr>\n",
       "    <tr>\n",
       "      <td>4</td>\n",
       "      <td>10</td>\n",
       "      <td>12/31/2017</td>\n",
       "      <td>ASSAULT 3</td>\n",
       "      <td>ASSAULT 3 &amp; RELATED OFFENSES</td>\n",
       "      <td>25-44</td>\n",
       "      <td>M</td>\n",
       "      <td>WHITE HISPANIC</td>\n",
       "      <td>40.702840</td>\n",
       "      <td>-73.929467</td>\n",
       "    </tr>\n",
       "  </tbody>\n",
       "</table>\n",
       "</div>"
      ],
      "text/plain": [
       "   Unnamed: 0 ARREST_DATE    PD_DESC                     OFNS_DESC AGE_GROUP  \\\n",
       "0           3  12/31/2017  ASSAULT 3  ASSAULT 3 & RELATED OFFENSES     25-44   \n",
       "1           4  12/31/2017  ASSAULT 3  ASSAULT 3 & RELATED OFFENSES     45-64   \n",
       "2           6  12/31/2017  ASSAULT 3  ASSAULT 3 & RELATED OFFENSES     18-24   \n",
       "3           8  12/31/2017  ASSAULT 3  ASSAULT 3 & RELATED OFFENSES     25-44   \n",
       "4          10  12/31/2017  ASSAULT 3  ASSAULT 3 & RELATED OFFENSES     25-44   \n",
       "\n",
       "  PERP_SEX       PERP_RACE   Latitude  Longitude  \n",
       "0        M           WHITE  40.763523 -73.987074  \n",
       "1        M           BLACK  40.759768 -73.989811  \n",
       "2        F  WHITE HISPANIC  40.722199 -73.977122  \n",
       "3        M  BLACK HISPANIC  40.787496 -73.949752  \n",
       "4        M  WHITE HISPANIC  40.702840 -73.929467  "
      ]
     },
     "execution_count": 2,
     "metadata": {},
     "output_type": "execute_result"
    }
   ],
   "source": [
    "path = \"../Cleaned_NYC_Arrests.csv\"\n",
    "file = pd.read_csv(path)\n",
    "\n",
    "nyc_arrests = pd.DataFrame(file)\n",
    "nyc_arrests.head()"
   ]
  },
  {
   "cell_type": "code",
   "execution_count": 3,
   "metadata": {},
   "outputs": [],
   "source": [
    "ny_cleaned_df = nyc_arrests[[\"ARREST_DATE\", \"PD_DESC\"]]\n",
    "ny_cleaned_df.head()\n",
    "\n",
    "ny_df = pd.to_datetime(ny_cleaned_df[\"ARREST_DATE\"])\n",
    "ny_df = pd.DataFrame(ny_df)"
   ]
  },
  {
   "cell_type": "code",
   "execution_count": 4,
   "metadata": {},
   "outputs": [
    {
     "name": "stdout",
     "output_type": "stream",
     "text": [
      "       ARREST_DATE\n",
      "143926  2014-12-31\n",
      "143927  2014-12-31\n",
      "143928  2014-12-31\n",
      "143929  2014-12-31\n",
      "143930  2014-12-31\n",
      "...            ...\n",
      "158809  2014-09-06\n",
      "158810  2014-09-06\n",
      "158811  2014-09-06\n",
      "158812  2014-09-06\n",
      "158813  2014-09-06\n",
      "\n",
      "[14888 rows x 1 columns]\n"
     ]
    }
   ],
   "source": [
    "#separate NYC data into 2014 dataframe\n",
    "start_date = datetime.datetime(2014, 1, 1)\n",
    "end_date = datetime.datetime(2014, 12, 31)\n",
    "fourteen = (ny_df['ARREST_DATE'] > start_date) & (ny_df['ARREST_DATE'] <= end_date)\n",
    "fourteen_df = ny_df.loc[fourteen]\n",
    "print(fourteen_df)"
   ]
  },
  {
   "cell_type": "code",
   "execution_count": 8,
   "metadata": {},
   "outputs": [],
   "source": [
    "#create lists for months in each year of 2014 dataframe\n",
    "sep_14 = []\n",
    "oct_14 = []\n",
    "nov_14 = []\n",
    "dec_14 = []"
   ]
  },
  {
   "cell_type": "code",
   "execution_count": 9,
   "metadata": {},
   "outputs": [],
   "source": [
    "#push monthly data into their respective lists\n",
    "for date in fourteen_df[\"ARREST_DATE\"]:\n",
    "    if (date > datetime.datetime(2014, 9, 1)) & (date < datetime.datetime(2014, 9, 30)):\n",
    "        sep_14.append(date)\n",
    "    elif (date > datetime.datetime(2014, 10, 1)) & (date < datetime.datetime(2014, 10, 31)):\n",
    "            oct_14.append(date)\n",
    "    elif (date > datetime.datetime(2014, 11, 1)) & (date < datetime.datetime(2014, 11, 30)):\n",
    "            nov_14.append(date)\n",
    "    elif (date > datetime.datetime(2014, 12, 1)) & (date < datetime.datetime(2014, 12, 31)):\n",
    "            dec_14.append(date)"
   ]
  },
  {
   "cell_type": "code",
   "execution_count": 10,
   "metadata": {},
   "outputs": [
    {
     "data": {
      "text/plain": [
       "[3144, 4223, 3720, 2956]"
      ]
     },
     "execution_count": 10,
     "metadata": {},
     "output_type": "execute_result"
    }
   ],
   "source": [
    "#create list of number of arrests in each month\n",
    "months_14 = [len(sep_14), len(oct_14), len(nov_14), len(dec_14)]\n",
    "months_14"
   ]
  },
  {
   "cell_type": "code",
   "execution_count": 11,
   "metadata": {},
   "outputs": [
    {
     "data": {
      "text/plain": [
       "['sep', 'oct', 'nov', 'dec']"
      ]
     },
     "execution_count": 11,
     "metadata": {},
     "output_type": "execute_result"
    }
   ],
   "source": [
    "#create monthly chart labels\n",
    "x_axis_14 = [\"sep\", \"oct\", \"nov\", \"dec\"]\n",
    "x_axis_14"
   ]
  },
  {
   "cell_type": "code",
   "execution_count": 12,
   "metadata": {},
   "outputs": [
    {
     "data": {
      "text/plain": [
       "<function matplotlib.pyplot.show(*args, **kw)>"
      ]
     },
     "execution_count": 12,
     "metadata": {},
     "output_type": "execute_result"
    },
    {
     "data": {
      "image/png": "[encoded data removed]",
      "text/plain": [
       "<Figure size 432x288 with 1 Axes>"
      ]
     },
     "metadata": {
      "needs_background": "light"
     },
     "output_type": "display_data"
    }
   ],
   "source": [
    "#plot arrests in 2014 by month\n",
    "arrests_14 = plt.bar(x_axis_14, months_14, color=\"g\")\n",
    "plt.title(\"2014 NYC Assault Arrests by Month\")\n",
    "plt.xlabel(\"Arrests\")\n",
    "plt.ylabel(\"Month\")\n",
    "plt.show"
   ]
  },
  {
   "cell_type": "code",
   "execution_count": 13,
   "metadata": {},
   "outputs": [
    {
     "name": "stdout",
     "output_type": "stream",
     "text": [
      "       ARREST_DATE\n",
      "96158   2015-12-31\n",
      "96159   2015-12-31\n",
      "96160   2015-12-31\n",
      "96161   2015-12-31\n",
      "96162   2015-12-31\n",
      "...            ...\n",
      "143786  2015-01-02\n",
      "143787  2015-01-02\n",
      "143788  2015-01-02\n",
      "143789  2015-01-02\n",
      "143790  2015-01-02\n",
      "\n",
      "[47633 rows x 1 columns]\n"
     ]
    }
   ],
   "source": [
    "#repeat process for 2015, 206, and 2017\n",
    "start_date_1 = datetime.datetime(2015, 1, 1)\n",
    "end_date_1 = datetime.datetime(2015, 12, 31)\n",
    "fifteen = (ny_df['ARREST_DATE'] > start_date_1) & (ny_df['ARREST_DATE'] <= end_date_1)\n",
    "fifteen_df = ny_df.loc[fifteen]\n",
    "print(fifteen_df)"
   ]
  },
  {
   "cell_type": "code",
   "execution_count": 14,
   "metadata": {},
   "outputs": [],
   "source": [
    "jan_15 = []\n",
    "feb_15 = []\n",
    "mar_15 = []\n",
    "apr_15 = []\n",
    "may_15 = []\n",
    "jun_15 = []\n",
    "jul_15 = []\n",
    "aug_15 = []\n",
    "sep_15 = []\n",
    "oct_15 = []\n",
    "nov_15 = []\n",
    "dec_15 = []"
   ]
  },
  {
   "cell_type": "code",
   "execution_count": 15,
   "metadata": {},
   "outputs": [],
   "source": [
    "for date in fifteen_df[\"ARREST_DATE\"]:\n",
    "    if (date > datetime.datetime(2015, 1, 1)) & (date < datetime.datetime(2015, 1, 31)):\n",
    "        jan_15.append(date)\n",
    "    elif (date > datetime.datetime(2015, 2, 1)) & (date < datetime.datetime(2015, 2, 28)):\n",
    "            feb_15.append(date)\n",
    "    elif (date > datetime.datetime(2015, 3, 1)) & (date < datetime.datetime(2015, 3, 31)):\n",
    "            mar_15.append(date)\n",
    "    elif (date > datetime.datetime(2015, 4, 1)) & (date < datetime.datetime(2015, 4, 30)):\n",
    "            apr_15.append(date)\n",
    "    elif (date > datetime.datetime(2015, 5, 1)) & (date < datetime.datetime(2015, 5, 31)):\n",
    "            may_15.append(date)\n",
    "    elif (date > datetime.datetime(2015, 6, 1)) & (date < datetime.datetime(2015, 6, 30)):\n",
    "            jun_15.append(date)\n",
    "    elif (date > datetime.datetime(2015, 7, 1)) & (date < datetime.datetime(2015, 7, 31)):\n",
    "            jul_15.append(date)\n",
    "    elif (date > datetime.datetime(2015, 8, 1)) & (date < datetime.datetime(2015, 8, 31)):\n",
    "            aug_15.append(date)\n",
    "    elif (date > datetime.datetime(2015, 9, 1)) & (date < datetime.datetime(2015, 9, 30)):\n",
    "            sep_15.append(date)\n",
    "    elif (date > datetime.datetime(2015, 10, 1)) & (date < datetime.datetime(2015, 10, 31)):\n",
    "            oct_15.append(date)\n",
    "    elif (date > datetime.datetime(2015, 11, 1)) & (date < datetime.datetime(2015, 11, 30)):\n",
    "            nov_15.append(date)\n",
    "    elif (date > datetime.datetime(2015, 12, 1)) & (date < datetime.datetime(2015, 12, 31)):\n",
    "            dec_15.append(date)"
   ]
  },
  {
   "cell_type": "code",
   "execution_count": 16,
   "metadata": {},
   "outputs": [
    {
     "data": {
      "text/plain": [
       "[3454, 3280, 3883, 3667, 4047, 3813, 4222, 4081, 3757, 3745, 3412, 3419]"
      ]
     },
     "execution_count": 16,
     "metadata": {},
     "output_type": "execute_result"
    }
   ],
   "source": [
    "months_15 = [len(jan_15), len(feb_15), len(mar_15), len(apr_15), len(may_15), len(jun_15), len(jul_15), len(aug_15), len(sep_15), len(oct_15), len(nov_15), len(dec_15)]\n",
    "months_15"
   ]
  },
  {
   "cell_type": "code",
   "execution_count": 17,
   "metadata": {},
   "outputs": [
    {
     "data": {
      "text/plain": [
       "['jan',\n",
       " 'feb',\n",
       " 'mar',\n",
       " 'apr',\n",
       " 'may',\n",
       " 'jun',\n",
       " 'jul',\n",
       " 'aug',\n",
       " 'sep',\n",
       " 'oct',\n",
       " 'nov',\n",
       " 'dec']"
      ]
     },
     "execution_count": 17,
     "metadata": {},
     "output_type": "execute_result"
    }
   ],
   "source": [
    "x_axis = [\"jan\", \"feb\", \"mar\", \"apr\", \"may\", \"jun\", \"jul\", \"aug\", \"sep\", \"oct\", \"nov\", \"dec\"]\n",
    "x_axis"
   ]
  },
  {
   "cell_type": "code",
   "execution_count": 20,
   "metadata": {},
   "outputs": [
    {
     "data": {
      "text/plain": [
       "<function matplotlib.pyplot.show(*args, **kw)>"
      ]
     },
     "execution_count": 20,
     "metadata": {},
     "output_type": "execute_result"
    },
    {
     "data": {
      "image/png": "[encoded data removed]",
      "text/plain": [
       "<Figure size 432x288 with 1 Axes>"
      ]
     },
     "metadata": {
      "needs_background": "light"
     },
     "output_type": "display_data"
    }
   ],
   "source": [
    "arrests_15 = plt.bar(x_axis, months_15, color=\"c\")\n",
    "plt.xlabel(\"Arrests\")\n",
    "plt.ylabel(\"Month\")\n",
    "plt.title(\"2015 NYC Assault Arrests by Month\")\n",
    "plt.show"
   ]
  },
  {
   "cell_type": "code",
   "execution_count": 21,
   "metadata": {},
   "outputs": [
    {
     "name": "stdout",
     "output_type": "stream",
     "text": [
      "      ARREST_DATE\n",
      "47586  2016-12-31\n",
      "47587  2016-12-31\n",
      "47588  2016-12-31\n",
      "47589  2016-12-31\n",
      "47590  2016-12-31\n",
      "...           ...\n",
      "95957  2016-01-02\n",
      "95958  2016-01-02\n",
      "95959  2016-01-02\n",
      "95960  2016-01-02\n",
      "95961  2016-01-02\n",
      "\n",
      "[48376 rows x 1 columns]\n"
     ]
    }
   ],
   "source": [
    "start_date_2 = datetime.datetime(2016, 1, 1)\n",
    "end_date_2 = datetime.datetime(2016, 12, 31)\n",
    "sixteen = (ny_df['ARREST_DATE'] > start_date_2) & (ny_df['ARREST_DATE'] <= end_date_2)\n",
    "sixteen_df = ny_df.loc[sixteen]\n",
    "print(sixteen_df)"
   ]
  },
  {
   "cell_type": "code",
   "execution_count": 22,
   "metadata": {},
   "outputs": [],
   "source": [
    "jan_16 = []\n",
    "feb_16 = []\n",
    "mar_16 = []\n",
    "apr_16 = []\n",
    "may_16 = []\n",
    "jun_16 = []\n",
    "jul_16 = []\n",
    "aug_16 = []\n",
    "sep_16 = []\n",
    "oct_16 = []\n",
    "nov_16 = []\n",
    "dec_16 = []"
   ]
  },
  {
   "cell_type": "code",
   "execution_count": 23,
   "metadata": {},
   "outputs": [],
   "source": [
    "for date in sixteen_df[\"ARREST_DATE\"]:\n",
    "    if (date > datetime.datetime(2016, 1, 1)) & (date < datetime.datetime(2016, 1, 31)):\n",
    "        jan_16.append(date)\n",
    "    elif (date > datetime.datetime(2016, 2, 1)) & (date < datetime.datetime(2016, 2, 29)):\n",
    "            feb_16.append(date)\n",
    "    elif (date > datetime.datetime(2016, 3, 1)) & (date < datetime.datetime(2016, 3, 31)):\n",
    "            mar_16.append(date)\n",
    "    elif (date > datetime.datetime(2016, 4, 1)) & (date < datetime.datetime(2016, 4, 30)):\n",
    "            apr_16.append(date)\n",
    "    elif (date > datetime.datetime(2016, 5, 1)) & (date < datetime.datetime(2016, 5, 31)):\n",
    "            may_16.append(date)\n",
    "    elif (date > datetime.datetime(2016, 6, 1)) & (date < datetime.datetime(2016, 6, 30)):\n",
    "            jun_16.append(date)\n",
    "    elif (date > datetime.datetime(2016, 7, 1)) & (date < datetime.datetime(2016, 7, 31)):\n",
    "            jul_16.append(date)\n",
    "    elif (date > datetime.datetime(2016, 8, 1)) & (date < datetime.datetime(2016, 8, 31)):\n",
    "            aug_16.append(date)\n",
    "    elif (date > datetime.datetime(2016, 9, 1)) & (date < datetime.datetime(2016, 9, 30)):\n",
    "            sep_16.append(date)\n",
    "    elif (date > datetime.datetime(2016, 10, 1)) & (date < datetime.datetime(2016, 10, 31)):\n",
    "            oct_16.append(date)\n",
    "    elif (date > datetime.datetime(2016, 11, 1)) & (date < datetime.datetime(2016, 11, 30)):\n",
    "            nov_16.append(date)\n",
    "    elif (date > datetime.datetime(2016, 12, 1)) & (date < datetime.datetime(2016, 12, 31)):\n",
    "            dec_16.append(date)"
   ]
  },
  {
   "cell_type": "code",
   "execution_count": 24,
   "metadata": {},
   "outputs": [
    {
     "data": {
      "text/plain": [
       "[3674, 3487, 3841, 3798, 4213, 3917, 4133, 4168, 3635, 3908, 3295, 3378]"
      ]
     },
     "execution_count": 24,
     "metadata": {},
     "output_type": "execute_result"
    }
   ],
   "source": [
    "months_16 = [len(jan_16), len(feb_16), len(mar_16), len(apr_16), len(may_16), len(jun_16), len(jul_16), len(aug_16), len(sep_16), len(oct_16), len(nov_16), len(dec_16)]\n",
    "months_16"
   ]
  },
  {
   "cell_type": "code",
   "execution_count": 25,
   "metadata": {},
   "outputs": [
    {
     "data": {
      "text/plain": [
       "['jan',\n",
       " 'feb',\n",
       " 'mar',\n",
       " 'apr',\n",
       " 'may',\n",
       " 'jun',\n",
       " 'jul',\n",
       " 'aug',\n",
       " 'sep',\n",
       " 'oct',\n",
       " 'nov',\n",
       " 'dec']"
      ]
     },
     "execution_count": 25,
     "metadata": {},
     "output_type": "execute_result"
    }
   ],
   "source": [
    "x_axis = [\"jan\", \"feb\", \"mar\", \"apr\", \"may\", \"jun\", \"jul\", \"aug\", \"sep\", \"oct\", \"nov\", \"dec\"]\n",
    "x_axis"
   ]
  },
  {
   "cell_type": "code",
   "execution_count": 77,
   "metadata": {},
   "outputs": [
    {
     "data": {
      "text/plain": [
       "<function matplotlib.pyplot.show(*args, **kw)>"
      ]
     },
     "execution_count": 77,
     "metadata": {},
     "output_type": "execute_result"
    },
    {
     "data": {
      "image/png": "[encoded data removed]",
      "text/plain": [
       "<Figure size 432x288 with 1 Axes>"
      ]
     },
     "metadata": {
      "needs_background": "light"
     },
     "output_type": "display_data"
    }
   ],
   "source": [
    "arrests_16 = plt.bar(x_axis, months_16, color=\"m\")\n",
    "plt.xlabel(\"Arrests\")\n",
    "plt.ylabel(\"Month\")\n",
    "plt.title(\"2016 NYC Assault Arrests by Month\")\n",
    "plt.show"
   ]
  },
  {
   "cell_type": "code",
   "execution_count": 27,
   "metadata": {},
   "outputs": [
    {
     "name": "stdout",
     "output_type": "stream",
     "text": [
      "      ARREST_DATE\n",
      "0      2017-12-31\n",
      "1      2017-12-31\n",
      "2      2017-12-31\n",
      "3      2017-12-31\n",
      "4      2017-12-31\n",
      "...           ...\n",
      "47447  2017-01-02\n",
      "47448  2017-01-02\n",
      "47449  2017-01-02\n",
      "47450  2017-01-02\n",
      "47451  2017-01-02\n",
      "\n",
      "[47452 rows x 1 columns]\n"
     ]
    }
   ],
   "source": [
    "start_date_3 = datetime.datetime(2017, 1, 1)\n",
    "end_date_3 = datetime.datetime(2017, 12, 31)\n",
    "seventeen = (ny_df['ARREST_DATE'] > start_date_3) & (ny_df['ARREST_DATE'] <= end_date_3)\n",
    "seventeen_df = ny_df.loc[seventeen]\n",
    "print(seventeen_df)"
   ]
  },
  {
   "cell_type": "code",
   "execution_count": 28,
   "metadata": {},
   "outputs": [],
   "source": [
    "jan_17 = []\n",
    "feb_17 = []\n",
    "mar_17 = []\n",
    "apr_17 = []\n",
    "may_17 = []\n",
    "jun_17 = []\n",
    "jul_17 = []\n",
    "aug_17 = []\n",
    "sep_17 = []\n",
    "oct_17 = []\n",
    "nov_17 = []\n",
    "dec_17 = []"
   ]
  },
  {
   "cell_type": "code",
   "execution_count": 29,
   "metadata": {},
   "outputs": [],
   "source": [
    "for date in seventeen_df[\"ARREST_DATE\"]:\n",
    "    if (date > datetime.datetime(2017, 1, 1)) & (date < datetime.datetime(2017, 1, 31)):\n",
    "        jan_17.append(date)\n",
    "    elif (date > datetime.datetime(2017, 2, 1)) & (date < datetime.datetime(2017, 2, 28)):\n",
    "            feb_17.append(date)\n",
    "    elif (date > datetime.datetime(2017, 3, 1)) & (date < datetime.datetime(2017, 3, 31)):\n",
    "            mar_17.append(date)\n",
    "    elif (date > datetime.datetime(2017, 4, 1)) & (date < datetime.datetime(2017, 4, 30)):\n",
    "            apr_17.append(date)\n",
    "    elif (date > datetime.datetime(2017, 5, 1)) & (date < datetime.datetime(2017, 5, 31)):\n",
    "            may_17.append(date)\n",
    "    elif (date > datetime.datetime(2017, 6, 1)) & (date < datetime.datetime(2017, 6, 30)):\n",
    "            jun_17.append(date)\n",
    "    elif (date > datetime.datetime(2017, 7, 1)) & (date < datetime.datetime(2017, 7, 31)):\n",
    "            jul_17.append(date)\n",
    "    elif (date > datetime.datetime(2017, 8, 1)) & (date < datetime.datetime(2017, 8, 31)):\n",
    "            aug_17.append(date)\n",
    "    elif (date > datetime.datetime(2017, 9, 1)) & (date < datetime.datetime(2017, 9, 30)):\n",
    "            sep_17.append(date)\n",
    "    elif (date > datetime.datetime(2017, 10, 1)) & (date < datetime.datetime(2017, 10, 31)):\n",
    "            oct_17.append(date)\n",
    "    elif (date > datetime.datetime(2017, 11, 1)) & (date < datetime.datetime(2017, 11, 30)):\n",
    "            nov_17.append(date)\n",
    "    elif (date > datetime.datetime(2017, 12, 1)) & (date < datetime.datetime(2017, 12, 31)):\n",
    "            dec_17.append(date)"
   ]
  },
  {
   "cell_type": "code",
   "execution_count": 30,
   "metadata": {},
   "outputs": [
    {
     "data": {
      "text/plain": [
       "[3843, 3294, 3714, 3691, 4039, 3848, 3950, 3821, 3607, 3968, 3423, 3265]"
      ]
     },
     "execution_count": 30,
     "metadata": {},
     "output_type": "execute_result"
    }
   ],
   "source": [
    "months_17 = [len(jan_17), len(feb_17), len(mar_17), len(apr_17), len(may_17), len(jun_17), len(jul_17), len(aug_17), len(sep_17), len(oct_17), len(nov_17), len(dec_17)]\n",
    "months_17"
   ]
  },
  {
   "cell_type": "code",
   "execution_count": 31,
   "metadata": {},
   "outputs": [
    {
     "data": {
      "text/plain": [
       "['jan',\n",
       " 'feb',\n",
       " 'mar',\n",
       " 'apr',\n",
       " 'may',\n",
       " 'jun',\n",
       " 'jul',\n",
       " 'aug',\n",
       " 'sep',\n",
       " 'oct',\n",
       " 'nov',\n",
       " 'dec']"
      ]
     },
     "execution_count": 31,
     "metadata": {},
     "output_type": "execute_result"
    }
   ],
   "source": [
    "x_axis = [\"jan\", \"feb\", \"mar\", \"apr\", \"may\", \"jun\", \"jul\", \"aug\", \"sep\", \"oct\", \"nov\", \"dec\"]\n",
    "x_axis"
   ]
  },
  {
   "cell_type": "code",
   "execution_count": 78,
   "metadata": {},
   "outputs": [
    {
     "data": {
      "text/plain": [
       "<function matplotlib.pyplot.show(*args, **kw)>"
      ]
     },
     "execution_count": 78,
     "metadata": {},
     "output_type": "execute_result"
    },
    {
     "data": {
      "image/png": "[encoded data removed]",
      "text/plain": [
       "<Figure size 432x288 with 1 Axes>"
      ]
     },
     "metadata": {
      "needs_background": "light"
     },
     "output_type": "display_data"
    }
   ],
   "source": [
    "arrests_17 = plt.bar(x_axis, months_17, color=\"r\")\n",
    "plt.xlabel(\"Arrests\")\n",
    "plt.ylabel(\"Month\")\n",
    "plt.title(\"2017 NYC Assault Arrests by Month\")\n",
    "plt.show"
   ]
  },
  {
   "cell_type": "code",
   "execution_count": 33,
   "metadata": {},
   "outputs": [
    {
     "data": {
      "text/plain": [
       "[None, None, None, None, None, None, None, None, 3144, 4223, 3720, 2956]"
      ]
     },
     "execution_count": 33,
     "metadata": {},
     "output_type": "execute_result"
    }
   ],
   "source": [
    "#for plotting all of the years 2014 needs a special month section because it only has data from September - December\n",
    "months_14_special = [None, None, None, None, None, None, None, None, len(sep_14), len(oct_14), len(nov_14), len(dec_14)]\n",
    "months_14_special"
   ]
  },
  {
   "cell_type": "code",
   "execution_count": 34,
   "metadata": {},
   "outputs": [
    {
     "data": {
      "image/png": "[encoded data removed]",
      "text/plain": [
       "<Figure size 432x288 with 1 Axes>"
      ]
     },
     "metadata": {
      "needs_background": "light"
     },
     "output_type": "display_data"
    }
   ],
   "source": [
    "#plot of all four years compared by month\n",
    "fourteen_line, = plt.plot(x_axis, months_14_special, color=\"blue\", label=\"2014\")\n",
    "fifteen_line, = plt.plot(x_axis, months_15, color=\"green\", label=\"2015\")\n",
    "sixteen_line, = plt.plot(x_axis, months_16, color=\"red\", label=\"2016\")\n",
    "seventeen_line, = plt.plot(x_axis, months_17, color=\"pink\", label=\"2017\")\n",
    "\n",
    "plt.legend(handles=[fourteen_line, fifteen_line, sixteen_line, seventeen_line], loc=\"best\")\n",
    "plt.xlabel(\"Month\")\n",
    "plt.ylabel(\"Arrests\")\n",
    "plt.title(\"Comparison of Assault Arrests 2014 - 2017\")\n",
    "plt.show"
   ]
  },
  {
   "cell_type": "code",
   "execution_count": 36,
   "metadata": {},
   "outputs": [],
   "source": [
    "spring_15 = len(mar_15) + len(apr_15) + len(may_15)\n",
    "spring_16 = len(mar_16) + len(apr_16) + len(may_16)\n",
    "spring_17 = len(mar_17) + len(apr_17) + len(may_17)"
   ]
  },
  {
   "cell_type": "code",
   "execution_count": 37,
   "metadata": {},
   "outputs": [],
   "source": [
    "summer_15 = len(jun_15) + len(jul_15) + len(aug_15)\n",
    "summer_16 = len(jun_16) + len(jul_16) + len(aug_16)\n",
    "summer_17 = len(jun_17) + len(jul_17) + len(aug_17)"
   ]
  },
  {
   "cell_type": "code",
   "execution_count": 38,
   "metadata": {},
   "outputs": [],
   "source": [
    "fall_15 = len(sep_15) + len(oct_15) + len(nov_15)\n",
    "fall_16 = len(sep_16) + len(oct_16) + len(nov_16)\n",
    "fall_17 = len(sep_17) + len(oct_17) + len(nov_17)"
   ]
  },
  {
   "cell_type": "code",
   "execution_count": 39,
   "metadata": {},
   "outputs": [],
   "source": [
    "winter_15 = len(dec_15) + len(jan_15) + len(feb_15)\n",
    "winter_16 = len(dec_16) + len(jan_16) + len(feb_16)\n",
    "winter_17 = len(dec_17) + len(jan_17) + len(feb_17)"
   ]
  },
  {
   "cell_type": "code",
   "execution_count": 40,
   "metadata": {},
   "outputs": [],
   "source": [
    "x_axis_seasons = [\"Spring\", \"Summer\", \"Fall\", \"Winter\"]\n",
    "seasons_15 = [spring_15, summer_15, fall_15, winter_15]\n",
    "seasons_16 = [spring_16, summer_16, fall_16, winter_16]\n",
    "seasons_17 = [spring_17, summer_17, fall_17, winter_17]"
   ]
  },
  {
   "cell_type": "code",
   "execution_count": 41,
   "metadata": {},
   "outputs": [
    {
     "data": {
      "text/plain": [
       "<matplotlib.legend.Legend at 0x235e2c80d88>"
      ]
     },
     "execution_count": 41,
     "metadata": {},
     "output_type": "execute_result"
    },
    {
     "data": {
      "image/png": "[encoded data removed]",
      "text/plain": [
       "<Figure size 432x288 with 1 Axes>"
      ]
     },
     "metadata": {
      "needs_background": "light"
     },
     "output_type": "display_data"
    }
   ],
   "source": [
    "#plot of all three complete years grouped by season\n",
    "fifteen_season, = plt.plot(x_axis_seasons, seasons_15, label=\"2015\")\n",
    "sixteen_season, = plt.plot(x_axis_seasons, seasons_16, label=\"2016\")\n",
    "seventeen_season, = plt.plot(x_axis_seasons, seasons_17, label=\"2017\")\n",
    "\n",
    "\n",
    "plt.title(\"Comparison of Assault Arrests by Season from 2014 - 2017\")\n",
    "plt.legend(handles=[fifteen_season, sixteen_season, seventeen_season], loc=\"best\")"
   ]
  },
  {
   "cell_type": "code",
   "execution_count": null,
   "metadata": {},
   "outputs": [],
   "source": [
    "#start LA data"
   ]
  },
  {
   "cell_type": "code",
   "execution_count": 42,
   "metadata": {},
   "outputs": [],
   "source": [
    "import pandas as pd\n",
    "import datetime\n",
    "import matplotlib.pyplot as plt\n",
    "import numpy as np"
   ]
  },
  {
   "cell_type": "code",
   "execution_count": 43,
   "metadata": {},
   "outputs": [
    {
     "data": {
      "text/html": [
       "<div>\n",
       "<style scoped>\n",
       "    .dataframe tbody tr th:only-of-type {\n",
       "        vertical-align: middle;\n",
       "    }\n",
       "\n",
       "    .dataframe tbody tr th {\n",
       "        vertical-align: top;\n",
       "    }\n",
       "\n",
       "    .dataframe thead th {\n",
       "        text-align: right;\n",
       "    }\n",
       "</style>\n",
       "<table border=\"1\" class=\"dataframe\">\n",
       "  <thead>\n",
       "    <tr style=\"text-align: right;\">\n",
       "      <th></th>\n",
       "      <th>DATE OCC</th>\n",
       "      <th>TIME OCC</th>\n",
       "      <th>AREA</th>\n",
       "      <th>AREA NAME</th>\n",
       "      <th>Crm Cd Desc</th>\n",
       "      <th>Vict Age</th>\n",
       "      <th>Vict Sex</th>\n",
       "      <th>Vict Descent</th>\n",
       "      <th>Premis Desc</th>\n",
       "      <th>Weapon Desc</th>\n",
       "      <th>Status Desc</th>\n",
       "      <th>LAT</th>\n",
       "      <th>LON</th>\n",
       "    </tr>\n",
       "  </thead>\n",
       "  <tbody>\n",
       "    <tr>\n",
       "      <td>0</td>\n",
       "      <td>02/20/2010 12:00:00 AM</td>\n",
       "      <td>1350</td>\n",
       "      <td>13</td>\n",
       "      <td>Newton</td>\n",
       "      <td>VIOLATION OF COURT ORDER</td>\n",
       "      <td>48</td>\n",
       "      <td>M</td>\n",
       "      <td>H</td>\n",
       "      <td>SINGLE FAMILY DWELLING</td>\n",
       "      <td>NaN</td>\n",
       "      <td>Adult Arrest</td>\n",
       "      <td>33.9825</td>\n",
       "      <td>-118.2695</td>\n",
       "    </tr>\n",
       "    <tr>\n",
       "      <td>1</td>\n",
       "      <td>09/12/2010 12:00:00 AM</td>\n",
       "      <td>45</td>\n",
       "      <td>14</td>\n",
       "      <td>Pacific</td>\n",
       "      <td>VANDALISM - FELONY ($400 &amp; OVER, ALL CHURCH VA...</td>\n",
       "      <td>0</td>\n",
       "      <td>M</td>\n",
       "      <td>W</td>\n",
       "      <td>STREET</td>\n",
       "      <td>NaN</td>\n",
       "      <td>Invest Cont</td>\n",
       "      <td>33.9599</td>\n",
       "      <td>-118.3962</td>\n",
       "    </tr>\n",
       "    <tr>\n",
       "      <td>2</td>\n",
       "      <td>08/09/2010 12:00:00 AM</td>\n",
       "      <td>1515</td>\n",
       "      <td>13</td>\n",
       "      <td>Newton</td>\n",
       "      <td>OTHER MISCELLANEOUS CRIME</td>\n",
       "      <td>0</td>\n",
       "      <td>M</td>\n",
       "      <td>H</td>\n",
       "      <td>ALLEY</td>\n",
       "      <td>NaN</td>\n",
       "      <td>Invest Cont</td>\n",
       "      <td>34.0224</td>\n",
       "      <td>-118.2524</td>\n",
       "    </tr>\n",
       "    <tr>\n",
       "      <td>3</td>\n",
       "      <td>01/05/2010 12:00:00 AM</td>\n",
       "      <td>150</td>\n",
       "      <td>6</td>\n",
       "      <td>Hollywood</td>\n",
       "      <td>VIOLATION OF COURT ORDER</td>\n",
       "      <td>47</td>\n",
       "      <td>F</td>\n",
       "      <td>W</td>\n",
       "      <td>STREET</td>\n",
       "      <td>HAND GUN</td>\n",
       "      <td>Invest Cont</td>\n",
       "      <td>34.1016</td>\n",
       "      <td>-118.3295</td>\n",
       "    </tr>\n",
       "    <tr>\n",
       "      <td>4</td>\n",
       "      <td>01/02/2010 12:00:00 AM</td>\n",
       "      <td>2100</td>\n",
       "      <td>1</td>\n",
       "      <td>Central</td>\n",
       "      <td>RAPE, ATTEMPTED</td>\n",
       "      <td>47</td>\n",
       "      <td>F</td>\n",
       "      <td>H</td>\n",
       "      <td>ALLEY</td>\n",
       "      <td>STRONG-ARM (HANDS, FIST, FEET OR BODILY FORCE)</td>\n",
       "      <td>Invest Cont</td>\n",
       "      <td>34.0387</td>\n",
       "      <td>-118.2488</td>\n",
       "    </tr>\n",
       "  </tbody>\n",
       "</table>\n",
       "</div>"
      ],
      "text/plain": [
       "                 DATE OCC  TIME OCC  AREA   AREA NAME  \\\n",
       "0  02/20/2010 12:00:00 AM      1350     13     Newton   \n",
       "1  09/12/2010 12:00:00 AM        45     14    Pacific   \n",
       "2  08/09/2010 12:00:00 AM      1515     13     Newton   \n",
       "3  01/05/2010 12:00:00 AM       150      6  Hollywood   \n",
       "4  01/02/2010 12:00:00 AM      2100      1    Central   \n",
       "\n",
       "                                         Crm Cd Desc  Vict Age Vict Sex  \\\n",
       "0                           VIOLATION OF COURT ORDER        48        M   \n",
       "1  VANDALISM - FELONY ($400 & OVER, ALL CHURCH VA...         0        M   \n",
       "2                          OTHER MISCELLANEOUS CRIME         0        M   \n",
       "3                           VIOLATION OF COURT ORDER        47        F   \n",
       "4                                    RAPE, ATTEMPTED        47        F   \n",
       "\n",
       "  Vict Descent             Premis Desc  \\\n",
       "0            H  SINGLE FAMILY DWELLING   \n",
       "1            W                  STREET   \n",
       "2            H                   ALLEY   \n",
       "3            W                  STREET   \n",
       "4            H                   ALLEY   \n",
       "\n",
       "                                      Weapon Desc   Status Desc      LAT  \\\n",
       "0                                             NaN  Adult Arrest  33.9825   \n",
       "1                                             NaN   Invest Cont  33.9599   \n",
       "2                                             NaN   Invest Cont  34.0224   \n",
       "3                                        HAND GUN   Invest Cont  34.1016   \n",
       "4  STRONG-ARM (HANDS, FIST, FEET OR BODILY FORCE)   Invest Cont  34.0387   \n",
       "\n",
       "        LON  \n",
       "0 -118.2695  \n",
       "1 -118.3962  \n",
       "2 -118.2524  \n",
       "3 -118.3295  \n",
       "4 -118.2488  "
      ]
     },
     "execution_count": 43,
     "metadata": {},
     "output_type": "execute_result"
    }
   ],
   "source": [
    "path = \"../Clean_La_Crime.csv\"\n",
    "file = pd.read_csv(path)\n",
    "\n",
    "la_arrests = pd.DataFrame(file)\n",
    "la_arrests.head()"
   ]
  },
  {
   "cell_type": "code",
   "execution_count": 44,
   "metadata": {},
   "outputs": [
    {
     "data": {
      "text/html": [
       "<div>\n",
       "<style scoped>\n",
       "    .dataframe tbody tr th:only-of-type {\n",
       "        vertical-align: middle;\n",
       "    }\n",
       "\n",
       "    .dataframe tbody tr th {\n",
       "        vertical-align: top;\n",
       "    }\n",
       "\n",
       "    .dataframe thead th {\n",
       "        text-align: right;\n",
       "    }\n",
       "</style>\n",
       "<table border=\"1\" class=\"dataframe\">\n",
       "  <thead>\n",
       "    <tr style=\"text-align: right;\">\n",
       "      <th></th>\n",
       "      <th>DATE OCC</th>\n",
       "    </tr>\n",
       "  </thead>\n",
       "  <tbody>\n",
       "    <tr>\n",
       "      <td>0</td>\n",
       "      <td>2010-02-20</td>\n",
       "    </tr>\n",
       "    <tr>\n",
       "      <td>1</td>\n",
       "      <td>2010-09-12</td>\n",
       "    </tr>\n",
       "    <tr>\n",
       "      <td>2</td>\n",
       "      <td>2010-08-09</td>\n",
       "    </tr>\n",
       "    <tr>\n",
       "      <td>3</td>\n",
       "      <td>2010-01-05</td>\n",
       "    </tr>\n",
       "    <tr>\n",
       "      <td>4</td>\n",
       "      <td>2010-01-02</td>\n",
       "    </tr>\n",
       "  </tbody>\n",
       "</table>\n",
       "</div>"
      ],
      "text/plain": [
       "    DATE OCC\n",
       "0 2010-02-20\n",
       "1 2010-09-12\n",
       "2 2010-08-09\n",
       "3 2010-01-05\n",
       "4 2010-01-02"
      ]
     },
     "execution_count": 44,
     "metadata": {},
     "output_type": "execute_result"
    }
   ],
   "source": [
    "la_cleaned_df = la_arrests[[\"DATE OCC\", \"Crm Cd Desc\"]]\n",
    "\n",
    "la_df = pd.to_datetime(la_cleaned_df[\"DATE OCC\"])\n",
    "la_df = pd.DataFrame(la_df)\n",
    "la_df.head()"
   ]
  },
  {
   "cell_type": "code",
   "execution_count": 45,
   "metadata": {},
   "outputs": [
    {
     "name": "stdout",
     "output_type": "stream",
     "text": [
      "         DATE OCC\n",
      "801533 2014-07-05\n",
      "801674 2014-08-04\n",
      "802574 2014-02-25\n",
      "802632 2014-11-14\n",
      "802744 2014-10-27\n",
      "...           ...\n",
      "998229 2014-07-25\n",
      "998230 2014-12-28\n",
      "998231 2014-05-04\n",
      "998232 2014-04-03\n",
      "998233 2014-03-07\n",
      "\n",
      "[193677 rows x 1 columns]\n"
     ]
    }
   ],
   "source": [
    "#following the same steps with LA data to separate them into years and months but LA has the full record for all four years\n",
    "#from 2014 - 2017\n",
    "start_date = datetime.datetime(2014, 1, 1)\n",
    "end_date = datetime.datetime(2014, 12, 31)\n",
    "la_fourteen = (la_df[\"DATE OCC\"] > start_date) & (la_df[\"DATE OCC\"] <= end_date)\n",
    "la_fourteen_df = la_df.loc[la_fourteen]\n",
    "print(la_fourteen_df)"
   ]
  },
  {
   "cell_type": "code",
   "execution_count": 46,
   "metadata": {},
   "outputs": [],
   "source": [
    "la_jan_14 = []\n",
    "la_feb_14 = []\n",
    "la_mar_14 = []\n",
    "la_apr_14 = []\n",
    "la_may_14 = []\n",
    "la_jun_14 = []\n",
    "la_jul_14 = []\n",
    "la_aug_14 = []\n",
    "la_sep_14 = []\n",
    "la_oct_14 = []\n",
    "la_nov_14 = []\n",
    "la_dec_14 = []"
   ]
  },
  {
   "cell_type": "code",
   "execution_count": 47,
   "metadata": {},
   "outputs": [],
   "source": [
    "for date in la_fourteen_df[\"DATE OCC\"]:\n",
    "    if (date > datetime.datetime(2014, 1, 1)) & (date < datetime.datetime(2014, 1, 31)):\n",
    "        la_jan_14.append(date)\n",
    "    elif (date > datetime.datetime(2014, 2, 1)) & (date < datetime.datetime(2014, 2, 28)):\n",
    "            la_feb_14.append(date)\n",
    "    elif (date > datetime.datetime(2014, 3, 1)) & (date < datetime.datetime(2014, 3, 31)):\n",
    "            la_mar_14.append(date)\n",
    "    elif (date > datetime.datetime(2014, 4, 1)) & (date < datetime.datetime(2014, 4, 30)):\n",
    "            la_apr_14.append(date)\n",
    "    elif (date > datetime.datetime(2014, 5, 1)) & (date < datetime.datetime(2014, 5, 31)):\n",
    "            la_may_14.append(date)\n",
    "    elif (date > datetime.datetime(2014, 6, 1)) & (date < datetime.datetime(2014, 6, 30)):\n",
    "            la_jun_14.append(date)\n",
    "    elif (date > datetime.datetime(2014, 7, 1)) & (date < datetime.datetime(2014, 7, 31)):\n",
    "            la_jul_14.append(date)\n",
    "    elif (date > datetime.datetime(2014, 8, 1)) & (date < datetime.datetime(2014, 8, 31)):\n",
    "            la_aug_14.append(date)\n",
    "    elif (date > datetime.datetime(2014, 9, 1)) & (date < datetime.datetime(2014, 9, 30)):\n",
    "            la_sep_14.append(date)\n",
    "    elif (date > datetime.datetime(2014, 10, 1)) & (date < datetime.datetime(2014, 10, 31)):\n",
    "            la_oct_14.append(date)\n",
    "    elif (date > datetime.datetime(2014, 11, 1)) & (date < datetime.datetime(2014, 11, 30)):\n",
    "            la_nov_14.append(date)\n",
    "    elif (date > datetime.datetime(2014, 12, 1)) & (date < datetime.datetime(2014, 12, 31)):\n",
    "            la_dec_14.append(date)"
   ]
  },
  {
   "cell_type": "code",
   "execution_count": 48,
   "metadata": {},
   "outputs": [
    {
     "data": {
      "text/plain": [
       "[14049,\n",
       " 12439,\n",
       " 14366,\n",
       " 14121,\n",
       " 15363,\n",
       " 15014,\n",
       " 15920,\n",
       " 15687,\n",
       " 15363,\n",
       " 15806,\n",
       " 14647,\n",
       " 15835]"
      ]
     },
     "execution_count": 48,
     "metadata": {},
     "output_type": "execute_result"
    }
   ],
   "source": [
    "la_months_14 = [len(la_jan_14), len(la_feb_14), len(la_mar_14), len(la_apr_14), len(la_may_14), len(la_jun_14), len(la_jul_14), len(la_aug_14), len(la_sep_14), len(la_oct_14), len(la_nov_14), len(la_dec_14)]\n",
    "la_months_14"
   ]
  },
  {
   "cell_type": "code",
   "execution_count": 49,
   "metadata": {},
   "outputs": [],
   "source": [
    "x_axis = [\"jan\", \"feb\", \"mar\", \"apr\", \"may\", \"jun\", \"jul\", \"aug\", \"sep\", \"oct\", \"nov\", \"dec\"]"
   ]
  },
  {
   "cell_type": "code",
   "execution_count": 79,
   "metadata": {},
   "outputs": [
    {
     "data": {
      "text/plain": [
       "<function matplotlib.pyplot.show(*args, **kw)>"
      ]
     },
     "execution_count": 79,
     "metadata": {},
     "output_type": "execute_result"
    },
    {
     "data": {
      "image/png": "[encoded data removed]",
      "text/plain": [
       "<Figure size 432x288 with 1 Axes>"
      ]
     },
     "metadata": {
      "needs_background": "light"
     },
     "output_type": "display_data"
    }
   ],
   "source": [
    "la_arrests_14 = plt.bar(x_axis, la_months_14, color=\"g\")\n",
    "plt.xlabel(\"Arrests\")\n",
    "plt.ylabel(\"Month\")\n",
    "plt.title(\"2014 LA Assault Arrests by Month\")\n",
    "plt.show"
   ]
  },
  {
   "cell_type": "code",
   "execution_count": 52,
   "metadata": {},
   "outputs": [
    {
     "name": "stdout",
     "output_type": "stream",
     "text": [
      "          DATE OCC\n",
      "929970  2015-09-24\n",
      "930168  2015-04-04\n",
      "931005  2015-06-29\n",
      "931285  2015-12-18\n",
      "931618  2015-07-26\n",
      "...            ...\n",
      "1213251 2015-03-12\n",
      "1213252 2015-08-20\n",
      "1213253 2015-09-20\n",
      "1213254 2015-05-03\n",
      "1213255 2015-08-20\n",
      "\n",
      "[213567 rows x 1 columns]\n"
     ]
    }
   ],
   "source": [
    "start_date = datetime.datetime(2015, 1, 1)\n",
    "end_date = datetime.datetime(2015, 12, 31)\n",
    "la_fifteen = (la_df[\"DATE OCC\"] > start_date) & (la_df[\"DATE OCC\"] <= end_date)\n",
    "la_fifteen_df = la_df.loc[la_fifteen]\n",
    "print(la_fifteen_df)"
   ]
  },
  {
   "cell_type": "code",
   "execution_count": 53,
   "metadata": {},
   "outputs": [],
   "source": [
    "la_jan_15 = []\n",
    "la_feb_15 = []\n",
    "la_mar_15 = []\n",
    "la_apr_15 = []\n",
    "la_may_15 = []\n",
    "la_jun_15 = []\n",
    "la_jul_15 = []\n",
    "la_aug_15 = []\n",
    "la_sep_15 = []\n",
    "la_oct_15 = []\n",
    "la_nov_15 = []\n",
    "la_dec_15 = []"
   ]
  },
  {
   "cell_type": "code",
   "execution_count": 54,
   "metadata": {},
   "outputs": [],
   "source": [
    "for date in la_fifteen_df[\"DATE OCC\"]:\n",
    "    if (date > datetime.datetime(2015, 1, 1)) & (date < datetime.datetime(2015, 1, 31)):\n",
    "        la_jan_15.append(date)\n",
    "    elif (date > datetime.datetime(2015, 2, 1)) & (date < datetime.datetime(2015, 2, 28)):\n",
    "            la_feb_15.append(date)\n",
    "    elif (date > datetime.datetime(2015, 3, 1)) & (date < datetime.datetime(2015, 3, 31)):\n",
    "            la_mar_15.append(date)\n",
    "    elif (date > datetime.datetime(2015, 4, 1)) & (date < datetime.datetime(2015, 4, 30)):\n",
    "            la_apr_15.append(date)\n",
    "    elif (date > datetime.datetime(2015, 5, 1)) & (date < datetime.datetime(2015, 5, 31)):\n",
    "            la_may_15.append(date)\n",
    "    elif (date > datetime.datetime(2015, 6, 1)) & (date < datetime.datetime(2015, 6, 30)):\n",
    "            la_jun_15.append(date)\n",
    "    elif (date > datetime.datetime(2015, 7, 1)) & (date < datetime.datetime(2015, 7, 31)):\n",
    "            la_jul_15.append(date)\n",
    "    elif (date > datetime.datetime(2015, 8, 1)) & (date < datetime.datetime(2015, 8, 31)):\n",
    "            la_aug_15.append(date)\n",
    "    elif (date > datetime.datetime(2015, 9, 1)) & (date < datetime.datetime(2015, 9, 30)):\n",
    "            la_sep_15.append(date)\n",
    "    elif (date > datetime.datetime(2015, 10, 1)) & (date < datetime.datetime(2015, 10, 31)):\n",
    "            la_oct_15.append(date)\n",
    "    elif (date > datetime.datetime(2015, 11, 1)) & (date < datetime.datetime(2015, 11, 30)):\n",
    "            la_nov_15.append(date)\n",
    "    elif (date > datetime.datetime(2015, 12, 1)) & (date < datetime.datetime(2015, 12, 31)):\n",
    "            la_dec_15.append(date)"
   ]
  },
  {
   "cell_type": "code",
   "execution_count": 55,
   "metadata": {},
   "outputs": [
    {
     "data": {
      "text/plain": [
       "[16230,\n",
       " 14690,\n",
       " 16560,\n",
       " 15539,\n",
       " 16481,\n",
       " 16051,\n",
       " 17150,\n",
       " 17459,\n",
       " 16761,\n",
       " 17575,\n",
       " 15839,\n",
       " 16707]"
      ]
     },
     "execution_count": 55,
     "metadata": {},
     "output_type": "execute_result"
    }
   ],
   "source": [
    "la_months_15 = [len(la_jan_15), len(la_feb_15), len(la_mar_15), len(la_apr_15), len(la_may_15), len(la_jun_15), len(la_jul_15), len(la_aug_15), len(la_sep_15), len(la_oct_15), len(la_nov_15), len(la_dec_15)]\n",
    "la_months_15"
   ]
  },
  {
   "cell_type": "code",
   "execution_count": 80,
   "metadata": {},
   "outputs": [
    {
     "data": {
      "text/plain": [
       "<function matplotlib.pyplot.show(*args, **kw)>"
      ]
     },
     "execution_count": 80,
     "metadata": {},
     "output_type": "execute_result"
    },
    {
     "data": {
      "image/png": "[encoded data removed]",
      "text/plain": [
       "<Figure size 432x288 with 1 Axes>"
      ]
     },
     "metadata": {
      "needs_background": "light"
     },
     "output_type": "display_data"
    }
   ],
   "source": [
    "la_arrests_15 = plt.bar(x_axis, la_months_15, color=\"c\")\n",
    "plt.xlabel(\"Arrests\")\n",
    "plt.ylabel(\"Month\")\n",
    "plt.title(\"2015 LA Assault Arrests by Month\")\n",
    "plt.show"
   ]
  },
  {
   "cell_type": "code",
   "execution_count": 58,
   "metadata": {},
   "outputs": [
    {
     "name": "stdout",
     "output_type": "stream",
     "text": [
      "          DATE OCC\n",
      "1143147 2016-12-25\n",
      "1156299 2016-05-28\n",
      "1156556 2016-07-29\n",
      "1156785 2016-12-06\n",
      "1157011 2016-03-04\n",
      "...            ...\n",
      "1438133 2016-05-11\n",
      "1438134 2016-01-28\n",
      "1438135 2016-01-12\n",
      "1438136 2016-09-27\n",
      "1438137 2016-05-01\n",
      "\n",
      "[223506 rows x 1 columns]\n"
     ]
    }
   ],
   "source": [
    "start_date = datetime.datetime(2016, 1, 1)\n",
    "end_date = datetime.datetime(2016, 12, 31)\n",
    "la_sixteen = (la_df[\"DATE OCC\"] > start_date) & (la_df[\"DATE OCC\"] <= end_date)\n",
    "la_sixteen_df = la_df.loc[la_sixteen]\n",
    "print(la_sixteen_df)"
   ]
  },
  {
   "cell_type": "code",
   "execution_count": 59,
   "metadata": {},
   "outputs": [],
   "source": [
    "la_jan_16 = []\n",
    "la_feb_16 = []\n",
    "la_mar_16 = []\n",
    "la_apr_16 = []\n",
    "la_may_16 = []\n",
    "la_jun_16 = []\n",
    "la_jul_16 = []\n",
    "la_aug_16 = []\n",
    "la_sep_16 = []\n",
    "la_oct_16 = []\n",
    "la_nov_16 = []\n",
    "la_dec_16 = []"
   ]
  },
  {
   "cell_type": "code",
   "execution_count": 60,
   "metadata": {},
   "outputs": [],
   "source": [
    "for date in la_sixteen_df[\"DATE OCC\"]:\n",
    "    if (date > datetime.datetime(2016, 1, 1)) & (date < datetime.datetime(2016, 1, 31)):\n",
    "        la_jan_16.append(date)\n",
    "    elif (date > datetime.datetime(2016, 2, 1)) & (date < datetime.datetime(2016, 2, 29)):\n",
    "            la_feb_16.append(date)\n",
    "    elif (date > datetime.datetime(2016, 3, 1)) & (date < datetime.datetime(2016, 3, 31)):\n",
    "            la_mar_16.append(date)\n",
    "    elif (date > datetime.datetime(2016, 4, 1)) & (date < datetime.datetime(2016, 4, 30)):\n",
    "            la_apr_16.append(date)\n",
    "    elif (date > datetime.datetime(2016, 5, 1)) & (date < datetime.datetime(2016, 5, 31)):\n",
    "            la_may_16.append(date)\n",
    "    elif (date > datetime.datetime(2016, 6, 1)) & (date < datetime.datetime(2016, 6, 30)):\n",
    "            la_jun_16.append(date)\n",
    "    elif (date > datetime.datetime(2016, 7, 1)) & (date < datetime.datetime(2016, 7, 31)):\n",
    "            la_jul_16.append(date)\n",
    "    elif (date > datetime.datetime(2016, 8, 1)) & (date < datetime.datetime(2016, 8, 31)):\n",
    "            la_aug_16.append(date)\n",
    "    elif (date > datetime.datetime(2016, 9, 1)) & (date < datetime.datetime(2016, 9, 30)):\n",
    "            la_sep_16.append(date)\n",
    "    elif (date > datetime.datetime(2016, 10, 1)) & (date < datetime.datetime(2016, 10, 31)):\n",
    "            la_oct_16.append(date)\n",
    "    elif (date > datetime.datetime(2016, 11, 1)) & (date < datetime.datetime(2016, 11, 30)):\n",
    "            la_nov_16.append(date)\n",
    "    elif (date > datetime.datetime(2016, 12, 1)) & (date < datetime.datetime(2016, 12, 31)):\n",
    "            la_dec_16.append(date)"
   ]
  },
  {
   "cell_type": "code",
   "execution_count": 61,
   "metadata": {},
   "outputs": [
    {
     "data": {
      "text/plain": [
       "[17028,\n",
       " 15861,\n",
       " 16847,\n",
       " 17055,\n",
       " 17594,\n",
       " 17429,\n",
       " 17897,\n",
       " 17917,\n",
       " 16916,\n",
       " 18015,\n",
       " 16426,\n",
       " 17746]"
      ]
     },
     "execution_count": 61,
     "metadata": {},
     "output_type": "execute_result"
    }
   ],
   "source": [
    "la_months_16 = [len(la_jan_16), len(la_feb_16), len(la_mar_16), len(la_apr_16), len(la_may_16), len(la_jun_16), len(la_jul_16), len(la_aug_16), len(la_sep_16), len(la_oct_16), len(la_nov_16), len(la_dec_16)]\n",
    "la_months_16"
   ]
  },
  {
   "cell_type": "code",
   "execution_count": 81,
   "metadata": {},
   "outputs": [
    {
     "data": {
      "text/plain": [
       "<function matplotlib.pyplot.show(*args, **kw)>"
      ]
     },
     "execution_count": 81,
     "metadata": {},
     "output_type": "execute_result"
    },
    {
     "data": {
      "image/png": "[encoded data removed]",
      "text/plain": [
       "<Figure size 432x288 with 1 Axes>"
      ]
     },
     "metadata": {
      "needs_background": "light"
     },
     "output_type": "display_data"
    }
   ],
   "source": [
    "la_arrests_16 = plt.bar(x_axis, la_months_16, color=\"m\")\n",
    "plt.xlabel(\"Arrests\")\n",
    "plt.ylabel(\"Month\")\n",
    "plt.title(\"2016 LA Assault Arrests by Month\")\n",
    "plt.show"
   ]
  },
  {
   "cell_type": "code",
   "execution_count": 63,
   "metadata": {},
   "outputs": [
    {
     "name": "stdout",
     "output_type": "stream",
     "text": [
      "          DATE OCC\n",
      "1384485 2017-07-26\n",
      "1384626 2017-10-19\n",
      "1385245 2017-01-15\n",
      "1385693 2017-11-02\n",
      "1386936 2017-01-26\n",
      "...            ...\n",
      "1668545 2017-06-25\n",
      "1668546 2017-12-14\n",
      "1668547 2017-02-18\n",
      "1668548 2017-08-11\n",
      "1668549 2017-08-16\n",
      "\n",
      "[229140 rows x 1 columns]\n"
     ]
    }
   ],
   "source": [
    "start_date = datetime.datetime(2017, 1, 1)\n",
    "end_date = datetime.datetime(2017, 12, 31)\n",
    "la_seventeen = (la_df[\"DATE OCC\"] > start_date) & (la_df[\"DATE OCC\"] <= end_date)\n",
    "la_seventeen_df = la_df.loc[la_seventeen]\n",
    "print(la_seventeen_df)"
   ]
  },
  {
   "cell_type": "code",
   "execution_count": 64,
   "metadata": {},
   "outputs": [],
   "source": [
    "la_jan_17 = []\n",
    "la_feb_17 = []\n",
    "la_mar_17 = []\n",
    "la_apr_17 = []\n",
    "la_may_17 = []\n",
    "la_jun_17 = []\n",
    "la_jul_17 = []\n",
    "la_aug_17 = []\n",
    "la_sep_17 = []\n",
    "la_oct_17 = []\n",
    "la_nov_17 = []\n",
    "la_dec_17 = []"
   ]
  },
  {
   "cell_type": "code",
   "execution_count": 67,
   "metadata": {},
   "outputs": [],
   "source": [
    "for date in la_seventeen_df[\"DATE OCC\"]:\n",
    "    if (date > datetime.datetime(2017, 1, 1)) & (date < datetime.datetime(2017, 1, 31)):\n",
    "        la_jan_17.append(date)\n",
    "    elif (date > datetime.datetime(2017, 2, 1)) & (date < datetime.datetime(2017, 2, 28)):\n",
    "            la_feb_17.append(date)\n",
    "    elif (date > datetime.datetime(2017, 3, 1)) & (date < datetime.datetime(2017, 3, 31)):\n",
    "            la_mar_17.append(date)\n",
    "    elif (date > datetime.datetime(2017, 4, 1)) & (date < datetime.datetime(2017, 4, 30)):\n",
    "            la_apr_17.append(date)\n",
    "    elif (date > datetime.datetime(2017, 5, 1)) & (date < datetime.datetime(2017, 5, 31)):\n",
    "            la_may_17.append(date)\n",
    "    elif (date > datetime.datetime(2017, 6, 1)) & (date < datetime.datetime(2017, 6, 30)):\n",
    "            la_jun_17.append(date)\n",
    "    elif (date > datetime.datetime(2017, 7, 1)) & (date < datetime.datetime(2017, 7, 31)):\n",
    "            la_jul_17.append(date)\n",
    "    elif (date > datetime.datetime(2017, 8, 1)) & (date < datetime.datetime(2017, 8, 31)):\n",
    "            la_aug_17.append(date)\n",
    "    elif (date > datetime.datetime(2017, 9, 1)) & (date < datetime.datetime(2017, 9, 30)):\n",
    "            la_sep_17.append(date)\n",
    "    elif (date > datetime.datetime(2017, 10, 1)) & (date < datetime.datetime(2017, 10, 31)):\n",
    "            la_oct_17.append(date)\n",
    "    elif (date > datetime.datetime(2017, 11, 1)) & (date < datetime.datetime(2017, 11, 30)):\n",
    "           la_nov_17.append(date)\n",
    "    elif (date > datetime.datetime(2017, 12, 1)) & (date < datetime.datetime(2017, 12, 31)):\n",
    "            la_dec_17.append(date)"
   ]
  },
  {
   "cell_type": "code",
   "execution_count": 68,
   "metadata": {},
   "outputs": [
    {
     "data": {
      "text/plain": [
       "[17594,\n",
       " 15661,\n",
       " 17832,\n",
       " 17239,\n",
       " 17892,\n",
       " 17384,\n",
       " 18605,\n",
       " 18138,\n",
       " 17750,\n",
       " 18771,\n",
       " 17504,\n",
       " 17508]"
      ]
     },
     "execution_count": 68,
     "metadata": {},
     "output_type": "execute_result"
    }
   ],
   "source": [
    "la_months_17 = [len(la_jan_17), len(la_feb_17), len(la_mar_17), len(la_apr_17), len(la_may_17), len(la_jun_17), len(la_jul_17), len(la_aug_17), len(la_sep_17), len(la_oct_17), len(la_nov_17), len(la_dec_17)]\n",
    "la_months_17"
   ]
  },
  {
   "cell_type": "code",
   "execution_count": 82,
   "metadata": {},
   "outputs": [
    {
     "data": {
      "text/plain": [
       "<function matplotlib.pyplot.show(*args, **kw)>"
      ]
     },
     "execution_count": 82,
     "metadata": {},
     "output_type": "execute_result"
    },
    {
     "data": {
      "image/png": "[encoded data removed]",
      "text/plain": [
       "<Figure size 432x288 with 1 Axes>"
      ]
     },
     "metadata": {
      "needs_background": "light"
     },
     "output_type": "display_data"
    }
   ],
   "source": [
    "la_arrests_17 = plt.bar(x_axis, la_months_17, color=\"r\")\n",
    "plt.xlabel(\"Arrests\")\n",
    "plt.ylabel(\"Month\")\n",
    "plt.title(\"2017 LA Assault Arrests by Month\")\n",
    "plt.show"
   ]
  },
  {
   "cell_type": "code",
   "execution_count": 70,
   "metadata": {},
   "outputs": [
    {
     "data": {
      "text/plain": [
       "<function matplotlib.pyplot.show(*args, **kw)>"
      ]
     },
     "execution_count": 70,
     "metadata": {},
     "output_type": "execute_result"
    },
    {
     "data": {
      "image/png": "[encoded data removed]",
      "text/plain": [
       "<Figure size 432x288 with 1 Axes>"
      ]
     },
     "metadata": {
      "needs_background": "light"
     },
     "output_type": "display_data"
    }
   ],
   "source": [
    "la_fourteen_line, = plt.plot(x_axis, la_months_14, color=\"blue\", label=\"2014\" )\n",
    "la_fifteen_line, = plt.plot(x_axis, la_months_15, color=\"green\", label=\"2015\")\n",
    "la_sixteen_line, = plt.plot(x_axis, la_months_16, color=\"red\", label=\"2016\")\n",
    "la_seventeen_line, = plt.plot(x_axis, la_months_17, color=\"pink\", label=\"2017\")\n",
    "\n",
    "\n",
    "plt.legend(handles=[la_fourteen_line, la_fifteen_line, la_sixteen_line, la_seventeen_line], loc=\"best\")\n",
    "\n",
    "plt.xlabel(\"Month\")\n",
    "plt.ylabel(\"Arrests\")\n",
    "plt.title(\"Comparison of Assault Arrests 2014 - 2017\")\n",
    "plt.show"
   ]
  },
  {
   "cell_type": "code",
   "execution_count": 71,
   "metadata": {},
   "outputs": [],
   "source": [
    "la_spring_15 = len(la_mar_15) + len(la_apr_15) + len(la_may_15)\n",
    "la_spring_16 = len(la_mar_16) + len(la_apr_16) + len(la_may_16)\n",
    "la_spring_17 = len(la_mar_17) + len(la_apr_17) + len(la_may_17)"
   ]
  },
  {
   "cell_type": "code",
   "execution_count": 72,
   "metadata": {},
   "outputs": [],
   "source": [
    "la_summer_15 = len(la_jun_15) + len(la_jul_15) + len(la_aug_15)\n",
    "la_summer_16 = len(la_jun_16) + len(la_jul_16) + len(la_aug_16)\n",
    "la_summer_17 = len(la_jun_17) + len(la_jul_17) + len(la_aug_17)"
   ]
  },
  {
   "cell_type": "code",
   "execution_count": 73,
   "metadata": {},
   "outputs": [],
   "source": [
    "la_fall_15 = len(la_sep_15) + len(la_oct_15) + len(la_nov_15)\n",
    "la_fall_16 = len(la_sep_16) + len(la_oct_16) + len(la_nov_16)\n",
    "la_fall_17 = len(la_sep_17) + len(la_oct_17) + len(la_nov_17)"
   ]
  },
  {
   "cell_type": "code",
   "execution_count": 74,
   "metadata": {},
   "outputs": [],
   "source": [
    "la_winter_15 = len(la_dec_15) + len(la_jan_15) + len(la_feb_15)\n",
    "la_winter_16 = len(la_dec_16) + len(la_jan_16) + len(la_feb_16)\n",
    "la_winter_17 = len(la_dec_17) + len(la_jan_17) + len(la_feb_17)"
   ]
  },
  {
   "cell_type": "code",
   "execution_count": 75,
   "metadata": {},
   "outputs": [],
   "source": [
    "x_axis_seasons = [\"Spring\", \"Summer\", \"Fall\", \"Winter\"]\n",
    "la_seasons_15 = [la_spring_15, la_summer_15, la_fall_15, la_winter_15]\n",
    "la_seasons_16 = [la_spring_16, la_summer_16, la_fall_16, la_winter_16]\n",
    "la_seasons_17 = [la_spring_17, la_summer_17, la_fall_17, la_winter_17]"
   ]
  },
  {
   "cell_type": "code",
   "execution_count": 76,
   "metadata": {},
   "outputs": [
    {
     "data": {
      "text/plain": [
       "<matplotlib.legend.Legend at 0x23597df67c8>"
      ]
     },
     "execution_count": 76,
     "metadata": {},
     "output_type": "execute_result"
    },
    {
     "data": {
      "image/png": "[encoded data removed]",
      "text/plain": [
       "<Figure size 432x288 with 1 Axes>"
      ]
     },
     "metadata": {
      "needs_background": "light"
     },
     "output_type": "display_data"
    }
   ],
   "source": [
    "la_fifteen_season, = plt.plot(x_axis_seasons, la_seasons_15, label=\"2015\")\n",
    "la_sixteen_season, = plt.plot(x_axis_seasons, la_seasons_16, label=\"2016\")\n",
    "la_seventeen_season, = plt.plot(x_axis_seasons, la_seasons_17, label=\"2017\")\n",
    "\n",
    "plt.title(\"Comparison of Assault Arrests by Season from 2014 - 2017\")\n",
    "plt.legend(handles=[fifteen_season, sixteen_season, seventeen_season], loc=\"best\")"
   ]
  },
  {
   "cell_type": "code",
   "execution_count": null,
   "metadata": {},
   "outputs": [],
   "source": []
  },
  {
   "cell_type": "code",
   "execution_count": null,
   "metadata": {},
   "outputs": [],
   "source": []
  }
 ],
 "metadata": {
  "kernelspec": {
   "display_name": "Python 3",
   "language": "python",
   "name": "python3"
  },
  "language_info": {
   "codemirror_mode": {
    "name": "ipython",
    "version": 3
   },
   "file_extension": ".py",
   "mimetype": "text/x-python",
   "name": "python",
   "nbconvert_exporter": "python",
   "pygments_lexer": "ipython3",
   "version": "3.7.4"
  }
 },
 "nbformat": 4,
 "nbformat_minor": 2
}
