{
 "cells": [
  {
   "cell_type": "code",
   "execution_count": 1,
   "metadata": {},
   "outputs": [],
   "source": [
    "import pandas as pd\n",
    "import datetime\n",
    "import matplotlib.pyplot as plt\n",
    "import numpy as np"
   ]
  },
  {
   "cell_type": "code",
   "execution_count": 2,
   "metadata": {},
   "outputs": [
    {
     "data": {
      "text/html": [
       "<div>\n",
       "<style scoped>\n",
       "    .dataframe tbody tr th:only-of-type {\n",
       "        vertical-align: middle;\n",
       "    }\n",
       "\n",
       "    .dataframe tbody tr th {\n",
       "        vertical-align: top;\n",
       "    }\n",
       "\n",
       "    .dataframe thead th {\n",
       "        text-align: right;\n",
       "    }\n",
       "</style>\n",
       "<table border=\"1\" class=\"dataframe\">\n",
       "  <thead>\n",
       "    <tr style=\"text-align: right;\">\n",
       "      <th></th>\n",
       "      <th>Unnamed: 0</th>\n",
       "      <th>ARREST_DATE</th>\n",
       "      <th>PD_DESC</th>\n",
       "      <th>OFNS_DESC</th>\n",
       "      <th>AGE_GROUP</th>\n",
       "      <th>PERP_SEX</th>\n",
       "      <th>PERP_RACE</th>\n",
       "      <th>Latitude</th>\n",
       "      <th>Longitude</th>\n",
       "    </tr>\n",
       "  </thead>\n",
       "  <tbody>\n",
       "    <tr>\n",
       "      <td>158809</td>\n",
       "      <td>1048554</td>\n",
       "      <td>9/6/2014</td>\n",
       "      <td>ASSAULT 3</td>\n",
       "      <td>ASSAULT 3 &amp; RELATED OFFENSES</td>\n",
       "      <td>25-44</td>\n",
       "      <td>M</td>\n",
       "      <td>WHITE HISPANIC</td>\n",
       "      <td>40.748101</td>\n",
       "      <td>-73.879560</td>\n",
       "    </tr>\n",
       "    <tr>\n",
       "      <td>158810</td>\n",
       "      <td>1048562</td>\n",
       "      <td>9/6/2014</td>\n",
       "      <td>ASSAULT 3</td>\n",
       "      <td>ASSAULT 3 &amp; RELATED OFFENSES</td>\n",
       "      <td>45-64</td>\n",
       "      <td>M</td>\n",
       "      <td>BLACK</td>\n",
       "      <td>40.810877</td>\n",
       "      <td>-73.941064</td>\n",
       "    </tr>\n",
       "    <tr>\n",
       "      <td>158811</td>\n",
       "      <td>1048564</td>\n",
       "      <td>9/6/2014</td>\n",
       "      <td>ASSAULT 3</td>\n",
       "      <td>ASSAULT 3 &amp; RELATED OFFENSES</td>\n",
       "      <td>18-24</td>\n",
       "      <td>M</td>\n",
       "      <td>WHITE HISPANIC</td>\n",
       "      <td>40.707936</td>\n",
       "      <td>-73.802907</td>\n",
       "    </tr>\n",
       "    <tr>\n",
       "      <td>158812</td>\n",
       "      <td>1048567</td>\n",
       "      <td>9/6/2014</td>\n",
       "      <td>ASSAULT 2,1,UNCLASSIFIED</td>\n",
       "      <td>FELONY ASSAULT</td>\n",
       "      <td>65+</td>\n",
       "      <td>M</td>\n",
       "      <td>WHITE</td>\n",
       "      <td>40.740275</td>\n",
       "      <td>-73.848865</td>\n",
       "    </tr>\n",
       "    <tr>\n",
       "      <td>158813</td>\n",
       "      <td>1048572</td>\n",
       "      <td>9/6/2014</td>\n",
       "      <td>ASSAULT 3</td>\n",
       "      <td>ASSAULT 3 &amp; RELATED OFFENSES</td>\n",
       "      <td>45-64</td>\n",
       "      <td>F</td>\n",
       "      <td>BLACK</td>\n",
       "      <td>40.582110</td>\n",
       "      <td>-73.825581</td>\n",
       "    </tr>\n",
       "  </tbody>\n",
       "</table>\n",
       "</div>"
      ],
      "text/plain": [
       "        Unnamed: 0 ARREST_DATE                   PD_DESC  \\\n",
       "158809     1048554    9/6/2014                 ASSAULT 3   \n",
       "158810     1048562    9/6/2014                 ASSAULT 3   \n",
       "158811     1048564    9/6/2014                 ASSAULT 3   \n",
       "158812     1048567    9/6/2014  ASSAULT 2,1,UNCLASSIFIED   \n",
       "158813     1048572    9/6/2014                 ASSAULT 3   \n",
       "\n",
       "                           OFNS_DESC AGE_GROUP PERP_SEX       PERP_RACE  \\\n",
       "158809  ASSAULT 3 & RELATED OFFENSES     25-44        M  WHITE HISPANIC   \n",
       "158810  ASSAULT 3 & RELATED OFFENSES     45-64        M           BLACK   \n",
       "158811  ASSAULT 3 & RELATED OFFENSES     18-24        M  WHITE HISPANIC   \n",
       "158812                FELONY ASSAULT       65+        M           WHITE   \n",
       "158813  ASSAULT 3 & RELATED OFFENSES     45-64        F           BLACK   \n",
       "\n",
       "         Latitude  Longitude  \n",
       "158809  40.748101 -73.879560  \n",
       "158810  40.810877 -73.941064  \n",
       "158811  40.707936 -73.802907  \n",
       "158812  40.740275 -73.848865  \n",
       "158813  40.582110 -73.825581  "
      ]
     },
     "execution_count": 2,
     "metadata": {},
     "output_type": "execute_result"
    }
   ],
   "source": [
    "path = \"../Cleaned_NYC_Arrests.csv\"\n",
    "file = pd.read_csv(path)\n",
    "\n",
    "nyc_arrests = pd.DataFrame(file)\n",
    "nyc_arrests.tail()"
   ]
  },
  {
   "cell_type": "code",
   "execution_count": 3,
   "metadata": {},
   "outputs": [
    {
     "data": {
      "text/html": [
       "<div>\n",
       "<style scoped>\n",
       "    .dataframe tbody tr th:only-of-type {\n",
       "        vertical-align: middle;\n",
       "    }\n",
       "\n",
       "    .dataframe tbody tr th {\n",
       "        vertical-align: top;\n",
       "    }\n",
       "\n",
       "    .dataframe thead th {\n",
       "        text-align: right;\n",
       "    }\n",
       "</style>\n",
       "<table border=\"1\" class=\"dataframe\">\n",
       "  <thead>\n",
       "    <tr style=\"text-align: right;\">\n",
       "      <th></th>\n",
       "      <th>ARREST_DATE</th>\n",
       "      <th>PD_DESC</th>\n",
       "    </tr>\n",
       "  </thead>\n",
       "  <tbody>\n",
       "    <tr>\n",
       "      <td>0</td>\n",
       "      <td>12/31/2017</td>\n",
       "      <td>ASSAULT 3</td>\n",
       "    </tr>\n",
       "    <tr>\n",
       "      <td>1</td>\n",
       "      <td>12/31/2017</td>\n",
       "      <td>ASSAULT 3</td>\n",
       "    </tr>\n",
       "    <tr>\n",
       "      <td>2</td>\n",
       "      <td>12/31/2017</td>\n",
       "      <td>ASSAULT 3</td>\n",
       "    </tr>\n",
       "    <tr>\n",
       "      <td>3</td>\n",
       "      <td>12/31/2017</td>\n",
       "      <td>ASSAULT 3</td>\n",
       "    </tr>\n",
       "    <tr>\n",
       "      <td>4</td>\n",
       "      <td>12/31/2017</td>\n",
       "      <td>ASSAULT 3</td>\n",
       "    </tr>\n",
       "  </tbody>\n",
       "</table>\n",
       "</div>"
      ],
      "text/plain": [
       "  ARREST_DATE    PD_DESC\n",
       "0  12/31/2017  ASSAULT 3\n",
       "1  12/31/2017  ASSAULT 3\n",
       "2  12/31/2017  ASSAULT 3\n",
       "3  12/31/2017  ASSAULT 3\n",
       "4  12/31/2017  ASSAULT 3"
      ]
     },
     "execution_count": 3,
     "metadata": {},
     "output_type": "execute_result"
    }
   ],
   "source": [
    "ny_cleaned_df = nyc_arrests[[\"ARREST_DATE\", \"PD_DESC\"]]\n",
    "ny_cleaned_df.head()"
   ]
  },
  {
   "cell_type": "code",
   "execution_count": 4,
   "metadata": {},
   "outputs": [],
   "source": [
    "ny_df = pd.to_datetime(ny_cleaned_df[\"ARREST_DATE\"])\n",
    "ny_df = pd.DataFrame(ny_df)"
   ]
  },
  {
   "cell_type": "code",
   "execution_count": 5,
   "metadata": {},
   "outputs": [
    {
     "name": "stdout",
     "output_type": "stream",
     "text": [
      "       ARREST_DATE\n",
      "143926  2014-12-31\n",
      "143927  2014-12-31\n",
      "143928  2014-12-31\n",
      "143929  2014-12-31\n",
      "143930  2014-12-31\n",
      "...            ...\n",
      "158809  2014-09-06\n",
      "158810  2014-09-06\n",
      "158811  2014-09-06\n",
      "158812  2014-09-06\n",
      "158813  2014-09-06\n",
      "\n",
      "[14888 rows x 1 columns]\n"
     ]
    }
   ],
   "source": [
    "start_date = datetime.datetime(2014, 1, 1)\n",
    "end_date = datetime.datetime(2014, 12, 31)\n",
    "fourteen = (ny_df['ARREST_DATE'] > start_date) & (ny_df['ARREST_DATE'] <= end_date)\n",
    "fourteen_df = ny_df.loc[fourteen]\n",
    "print(fourteen_df)"
   ]
  },
  {
   "cell_type": "code",
   "execution_count": 42,
   "metadata": {},
   "outputs": [],
   "source": [
    "sep = []\n",
    "oct = []\n",
    "nov = []\n",
    "dec = []"
   ]
  },
  {
   "cell_type": "code",
   "execution_count": 43,
   "metadata": {},
   "outputs": [],
   "source": [
    "for date in fourteen_df[\"ARREST_DATE\"]:\n",
    "    if (date > datetime.datetime(2014, 9, 1)) & (date < datetime.datetime(2014, 9, 30)):\n",
    "        sep_1.append(date)\n",
    "    elif (date > datetime.datetime(2014, 10, 1)) & (date < datetime.datetime(2014, 10, 31)):\n",
    "            oct.append(date)\n",
    "    elif (date > datetime.datetime(2014, 11, 1)) & (date < datetime.datetime(2014, 11, 30)):\n",
    "            nov.append(date)\n",
    "    elif (date > datetime.datetime(2014, 12, 1)) & (date < datetime.datetime(2014, 12, 31)):\n",
    "            dec.append(date)"
   ]
  },
  {
   "cell_type": "code",
   "execution_count": 44,
   "metadata": {},
   "outputs": [],
   "source": [
    "months = [len(sep), len(oct), len(nov), len(dec)]\n",
    "months\n",
    "sep_total = sep"
   ]
  },
  {
   "cell_type": "code",
   "execution_count": 9,
   "metadata": {},
   "outputs": [
    {
     "data": {
      "text/plain": [
       "['sep', 'oct', 'nov', 'dec']"
      ]
     },
     "execution_count": 9,
     "metadata": {},
     "output_type": "execute_result"
    }
   ],
   "source": [
    "x_axis = [\"sep\", \"oct\", \"nov\", \"dec\"]\n",
    "x_axis"
   ]
  },
  {
   "cell_type": "code",
   "execution_count": 10,
   "metadata": {},
   "outputs": [
    {
     "data": {
      "text/plain": [
       "<BarContainer object of 4 artists>"
      ]
     },
     "execution_count": 10,
     "metadata": {},
     "output_type": "execute_result"
    },
    {
     "data": {
      "image/png": "[encoded data removed]",
      "text/plain": [
       "<Figure size 432x288 with 1 Axes>"
      ]
     },
     "metadata": {
      "needs_background": "light"
     },
     "output_type": "display_data"
    }
   ],
   "source": [
    "plt.bar(x_axis, months)"
   ]
  },
  {
   "cell_type": "code",
   "execution_count": 11,
   "metadata": {},
   "outputs": [
    {
     "name": "stdout",
     "output_type": "stream",
     "text": [
      "       ARREST_DATE\n",
      "96158   2015-12-31\n",
      "96159   2015-12-31\n",
      "96160   2015-12-31\n",
      "96161   2015-12-31\n",
      "96162   2015-12-31\n",
      "...            ...\n",
      "143786  2015-01-02\n",
      "143787  2015-01-02\n",
      "143788  2015-01-02\n",
      "143789  2015-01-02\n",
      "143790  2015-01-02\n",
      "\n",
      "[47633 rows x 1 columns]\n"
     ]
    }
   ],
   "source": [
    "start_date_1 = datetime.datetime(2015, 1, 1)\n",
    "end_date_1 = datetime.datetime(2015, 12, 31)\n",
    "fifteen = (ny_df['ARREST_DATE'] > start_date_1) & (ny_df['ARREST_DATE'] <= end_date_1)\n",
    "fifteen_df = ny_df.loc[fifteen]\n",
    "print(fifteen_df)"
   ]
  },
  {
   "cell_type": "code",
   "execution_count": 56,
   "metadata": {},
   "outputs": [],
   "source": [
    "jan_1 = []\n",
    "feb_1 = []\n",
    "mar_1 = []\n",
    "apr_1 = []\n",
    "may_1 = []\n",
    "jun_1 = []\n",
    "jul_1 = []\n",
    "aug_1 = []\n",
    "sep_1 = []\n",
    "oct_1 = []\n",
    "nov_1 = []\n",
    "dec_1 = []"
   ]
  },
  {
   "cell_type": "code",
   "execution_count": 57,
   "metadata": {},
   "outputs": [],
   "source": [
    "for date in fifteen_df[\"ARREST_DATE\"]:\n",
    "    if (date > datetime.datetime(2015, 1, 1)) & (date < datetime.datetime(2015, 1, 31)):\n",
    "        jan_1.append(date)\n",
    "    elif (date > datetime.datetime(2015, 2, 1)) & (date < datetime.datetime(2015, 2, 28)):\n",
    "            feb_1.append(date)\n",
    "    elif (date > datetime.datetime(2015, 3, 1)) & (date < datetime.datetime(2015, 3, 31)):\n",
    "            mar_1.append(date)\n",
    "    elif (date > datetime.datetime(2015, 4, 1)) & (date < datetime.datetime(2015, 4, 30)):\n",
    "            apr_1.append(date)\n",
    "    elif (date > datetime.datetime(2015, 5, 1)) & (date < datetime.datetime(2015, 5, 31)):\n",
    "            may_1.append(date)\n",
    "    elif (date > datetime.datetime(2015, 6, 1)) & (date < datetime.datetime(2015, 6, 30)):\n",
    "            jun_1.append(date)\n",
    "    elif (date > datetime.datetime(2015, 7, 1)) & (date < datetime.datetime(2015, 7, 31)):\n",
    "            jul_1.append(date)\n",
    "    elif (date > datetime.datetime(2015, 8, 1)) & (date < datetime.datetime(2015, 8, 31)):\n",
    "            aug_1.append(date)\n",
    "    elif (date > datetime.datetime(2015, 9, 1)) & (date < datetime.datetime(2015, 9, 30)):\n",
    "            sep_1.append(date)\n",
    "    elif (date > datetime.datetime(2015, 10, 1)) & (date < datetime.datetime(2015, 10, 31)):\n",
    "            oct_1.append(date)\n",
    "    elif (date > datetime.datetime(2015, 11, 1)) & (date < datetime.datetime(2015, 11, 30)):\n",
    "            nov_1.append(date)\n",
    "    elif (date > datetime.datetime(2015, 12, 1)) & (date < datetime.datetime(2015, 12, 31)):\n",
    "            dec_1.append(date)"
   ]
  },
  {
   "cell_type": "code",
   "execution_count": 54,
   "metadata": {},
   "outputs": [
    {
     "data": {
      "text/plain": [
       "[3454, 3280, 3883, 3667, 4047, 3813, 4222, 4081, 3757, 3745, 3412, 3419]"
      ]
     },
     "execution_count": 54,
     "metadata": {},
     "output_type": "execute_result"
    }
   ],
   "source": [
    "months = [len(jan), len(feb), len(mar), len(apr), len(may), len(jun), len(jul), len(aug), len(sep_2), len(oct), len(nov), len(dec)]\n",
    "months"
   ]
  },
  {
   "cell_type": "code",
   "execution_count": 15,
   "metadata": {},
   "outputs": [
    {
     "data": {
      "text/plain": [
       "['jan',\n",
       " 'feb',\n",
       " 'mar',\n",
       " 'apr',\n",
       " 'may',\n",
       " 'jun',\n",
       " 'jul',\n",
       " 'aug',\n",
       " 'sep',\n",
       " 'oct',\n",
       " 'nov',\n",
       " 'dec']"
      ]
     },
     "execution_count": 15,
     "metadata": {},
     "output_type": "execute_result"
    }
   ],
   "source": [
    "x_axis = [\"jan\", \"feb\", \"mar\", \"apr\", \"may\", \"jun\", \"jul\", \"aug\", \"sep\", \"oct\", \"nov\", \"dec\"]\n",
    "x_axis"
   ]
  },
  {
   "cell_type": "code",
   "execution_count": 16,
   "metadata": {},
   "outputs": [
    {
     "data": {
      "text/plain": [
       "<BarContainer object of 12 artists>"
      ]
     },
     "execution_count": 16,
     "metadata": {},
     "output_type": "execute_result"
    },
    {
     "data": {
      "image/png": "[encoded data removed]",
      "text/plain": [
       "<Figure size 432x288 with 1 Axes>"
      ]
     },
     "metadata": {
      "needs_background": "light"
     },
     "output_type": "display_data"
    }
   ],
   "source": [
    "plt.bar(x_axis, months)"
   ]
  },
  {
   "cell_type": "code",
   "execution_count": 17,
   "metadata": {},
   "outputs": [
    {
     "name": "stdout",
     "output_type": "stream",
     "text": [
      "      ARREST_DATE\n",
      "47586  2016-12-31\n",
      "47587  2016-12-31\n",
      "47588  2016-12-31\n",
      "47589  2016-12-31\n",
      "47590  2016-12-31\n",
      "...           ...\n",
      "95957  2016-01-02\n",
      "95958  2016-01-02\n",
      "95959  2016-01-02\n",
      "95960  2016-01-02\n",
      "95961  2016-01-02\n",
      "\n",
      "[48376 rows x 1 columns]\n"
     ]
    }
   ],
   "source": [
    "start_date_2 = datetime.datetime(2016, 1, 1)\n",
    "end_date_2 = datetime.datetime(2016, 12, 31)\n",
    "sixteen = (ny_df['ARREST_DATE'] > start_date_2) & (ny_df['ARREST_DATE'] <= end_date_2)\n",
    "sixteen_df = ny_df.loc[sixteen]\n",
    "print(sixteen_df)"
   ]
  },
  {
   "cell_type": "code",
   "execution_count": 58,
   "metadata": {},
   "outputs": [],
   "source": [
    "jan_2 = []\n",
    "feb_2 = []\n",
    "mar_2 = []\n",
    "apr_2 = []\n",
    "may_2 = []\n",
    "jun_2 = []\n",
    "jul_2 = []\n",
    "aug_2 = []\n",
    "sep_2 = []\n",
    "oct_2 = []\n",
    "nov_2 = []\n",
    "dec_2 = []"
   ]
  },
  {
   "cell_type": "code",
   "execution_count": 59,
   "metadata": {},
   "outputs": [],
   "source": [
    "for date in fifteen_df[\"ARREST_DATE\"]:\n",
    "    if (date > datetime.datetime(2015, 1, 1)) & (date < datetime.datetime(2015, 1, 31)):\n",
    "        jan_2.append(date)\n",
    "    elif (date > datetime.datetime(2015, 2, 1)) & (date < datetime.datetime(2015, 2, 28)):\n",
    "            feb_2.append(date)\n",
    "    elif (date > datetime.datetime(2015, 3, 1)) & (date < datetime.datetime(2015, 3, 31)):\n",
    "            mar_2.append(date)\n",
    "    elif (date > datetime.datetime(2015, 4, 1)) & (date < datetime.datetime(2015, 4, 30)):\n",
    "            apr_2.append(date)\n",
    "    elif (date > datetime.datetime(2015, 5, 1)) & (date < datetime.datetime(2015, 5, 31)):\n",
    "            may_2.append(date)\n",
    "    elif (date > datetime.datetime(2015, 6, 1)) & (date < datetime.datetime(2015, 6, 30)):\n",
    "            jun_2.append(date)\n",
    "    elif (date > datetime.datetime(2015, 7, 1)) & (date < datetime.datetime(2015, 7, 31)):\n",
    "            jul_2.append(date)\n",
    "    elif (date > datetime.datetime(2015, 8, 1)) & (date < datetime.datetime(2015, 8, 31)):\n",
    "            aug_2.append(date)\n",
    "    elif (date > datetime.datetime(2015, 9, 1)) & (date < datetime.datetime(2015, 9, 30)):\n",
    "            sep_2.append(date)\n",
    "    elif (date > datetime.datetime(2015, 10, 1)) & (date < datetime.datetime(2015, 10, 31)):\n",
    "            oct_2.append(date)\n",
    "    elif (date > datetime.datetime(2015, 11, 1)) & (date < datetime.datetime(2015, 11, 30)):\n",
    "            nov_2.append(date)\n",
    "    elif (date > datetime.datetime(2015, 12, 1)) & (date < datetime.datetime(2015, 12, 31)):\n",
    "            dec_2.append(date)"
   ]
  },
  {
   "cell_type": "code",
   "execution_count": 20,
   "metadata": {},
   "outputs": [
    {
     "data": {
      "text/plain": [
       "[3674, 3487, 3841, 3798, 4213, 3917, 4133, 4168, 3635, 3908, 3295, 3378]"
      ]
     },
     "execution_count": 20,
     "metadata": {},
     "output_type": "execute_result"
    }
   ],
   "source": [
    "months = [len(jan), len(feb), len(mar), len(apr), len(may), len(jun), len(jul), len(aug), len(sep), len(oct), len(nov), len(dec)]\n",
    "months"
   ]
  },
  {
   "cell_type": "code",
   "execution_count": 21,
   "metadata": {},
   "outputs": [
    {
     "data": {
      "text/plain": [
       "['jan',\n",
       " 'feb',\n",
       " 'mar',\n",
       " 'apr',\n",
       " 'may',\n",
       " 'jun',\n",
       " 'jul',\n",
       " 'aug',\n",
       " 'sep',\n",
       " 'oct',\n",
       " 'nov',\n",
       " 'dec']"
      ]
     },
     "execution_count": 21,
     "metadata": {},
     "output_type": "execute_result"
    }
   ],
   "source": [
    "x_axis = [\"jan\", \"feb\", \"mar\", \"apr\", \"may\", \"jun\", \"jul\", \"aug\", \"sep\", \"oct\", \"nov\", \"dec\"]\n",
    "x_axis"
   ]
  },
  {
   "cell_type": "code",
   "execution_count": 22,
   "metadata": {},
   "outputs": [
    {
     "data": {
      "text/plain": [
       "<BarContainer object of 12 artists>"
      ]
     },
     "execution_count": 22,
     "metadata": {},
     "output_type": "execute_result"
    },
    {
     "data": {
      "image/png": "[encoded data removed]",
      "text/plain": [
       "<Figure size 432x288 with 1 Axes>"
      ]
     },
     "metadata": {
      "needs_background": "light"
     },
     "output_type": "display_data"
    }
   ],
   "source": [
    "plt.bar(x_axis, months)"
   ]
  },
  {
   "cell_type": "code",
   "execution_count": 23,
   "metadata": {},
   "outputs": [
    {
     "name": "stdout",
     "output_type": "stream",
     "text": [
      "      ARREST_DATE\n",
      "0      2017-12-31\n",
      "1      2017-12-31\n",
      "2      2017-12-31\n",
      "3      2017-12-31\n",
      "4      2017-12-31\n",
      "...           ...\n",
      "47447  2017-01-02\n",
      "47448  2017-01-02\n",
      "47449  2017-01-02\n",
      "47450  2017-01-02\n",
      "47451  2017-01-02\n",
      "\n",
      "[47452 rows x 1 columns]\n"
     ]
    }
   ],
   "source": [
    "start_date_3 = datetime.datetime(2017, 1, 1)\n",
    "end_date_3 = datetime.datetime(2017, 12, 31)\n",
    "seventeen = (ny_df['ARREST_DATE'] > start_date_3) & (ny_df['ARREST_DATE'] <= end_date_3)\n",
    "seventeen_df = ny_df.loc[seventeen]\n",
    "print(seventeen_df)"
   ]
  },
  {
   "cell_type": "code",
   "execution_count": 60,
   "metadata": {},
   "outputs": [],
   "source": [
    "jan_3 = []\n",
    "feb_3 = []\n",
    "mar_3 = []\n",
    "apr_3 = []\n",
    "may_3 = []\n",
    "jun_3 = []\n",
    "jul_3 = []\n",
    "aug_3 = []\n",
    "sep_3 = []\n",
    "oct_3 = []\n",
    "nov_3 = []\n",
    "dec_3 = []"
   ]
  },
  {
   "cell_type": "code",
   "execution_count": 61,
   "metadata": {},
   "outputs": [],
   "source": [
    "for date in fifteen_df[\"ARREST_DATE\"]:\n",
    "    if (date > datetime.datetime(2015, 1, 1)) & (date < datetime.datetime(2015, 1, 31)):\n",
    "        jan_3.append(date)\n",
    "    elif (date > datetime.datetime(2015, 2, 1)) & (date < datetime.datetime(2015, 2, 28)):\n",
    "            feb_3.append(date)\n",
    "    elif (date > datetime.datetime(2015, 3, 1)) & (date < datetime.datetime(2015, 3, 31)):\n",
    "            mar_3.append(date)\n",
    "    elif (date > datetime.datetime(2015, 4, 1)) & (date < datetime.datetime(2015, 4, 30)):\n",
    "            apr_3.append(date)\n",
    "    elif (date > datetime.datetime(2015, 5, 1)) & (date < datetime.datetime(2015, 5, 31)):\n",
    "            may_3.append(date)\n",
    "    elif (date > datetime.datetime(2015, 6, 1)) & (date < datetime.datetime(2015, 6, 30)):\n",
    "            jun_3.append(date)\n",
    "    elif (date > datetime.datetime(2015, 7, 1)) & (date < datetime.datetime(2015, 7, 31)):\n",
    "            jul_3.append(date)\n",
    "    elif (date > datetime.datetime(2015, 8, 1)) & (date < datetime.datetime(2015, 8, 31)):\n",
    "            aug_3.append(date)\n",
    "    elif (date > datetime.datetime(2015, 9, 1)) & (date < datetime.datetime(2015, 9, 30)):\n",
    "            sep_3.append(date)\n",
    "    elif (date > datetime.datetime(2015, 10, 1)) & (date < datetime.datetime(2015, 10, 31)):\n",
    "            oct_3.append(date)\n",
    "    elif (date > datetime.datetime(2015, 11, 1)) & (date < datetime.datetime(2015, 11, 30)):\n",
    "            nov_3.append(date)\n",
    "    elif (date > datetime.datetime(2015, 12, 1)) & (date < datetime.datetime(2015, 12, 31)):\n",
    "            dec_3.append(date)"
   ]
  },
  {
   "cell_type": "code",
   "execution_count": 26,
   "metadata": {},
   "outputs": [
    {
     "data": {
      "text/plain": [
       "[3843, 3294, 3714, 3691, 4039, 3848, 3950, 3821, 3607, 3968, 3423, 3265]"
      ]
     },
     "execution_count": 26,
     "metadata": {},
     "output_type": "execute_result"
    }
   ],
   "source": [
    "months = [len(jan), len(feb), len(mar), len(apr), len(may), len(jun), len(jul), len(aug), len(sep), len(oct), len(nov), len(dec)]\n",
    "months"
   ]
  },
  {
   "cell_type": "code",
   "execution_count": 27,
   "metadata": {},
   "outputs": [
    {
     "data": {
      "text/plain": [
       "['jan',\n",
       " 'feb',\n",
       " 'mar',\n",
       " 'apr',\n",
       " 'may',\n",
       " 'jun',\n",
       " 'jul',\n",
       " 'aug',\n",
       " 'sep',\n",
       " 'oct',\n",
       " 'nov',\n",
       " 'dec']"
      ]
     },
     "execution_count": 27,
     "metadata": {},
     "output_type": "execute_result"
    }
   ],
   "source": [
    "x_axis = [\"jan\", \"feb\", \"mar\", \"apr\", \"may\", \"jun\", \"jul\", \"aug\", \"sep\", \"oct\", \"nov\", \"dec\"]\n",
    "x_axis"
   ]
  },
  {
   "cell_type": "code",
   "execution_count": 28,
   "metadata": {},
   "outputs": [
    {
     "data": {
      "text/plain": [
       "<BarContainer object of 12 artists>"
      ]
     },
     "execution_count": 28,
     "metadata": {},
     "output_type": "execute_result"
    },
    {
     "data": {
      "image/png": "[encoded data removed]",
      "text/plain": [
       "<Figure size 432x288 with 1 Axes>"
      ]
     },
     "metadata": {
      "needs_background": "light"
     },
     "output_type": "display_data"
    }
   ],
   "source": [
    "plt.bar(x_axis, months)"
   ]
  },
  {
   "cell_type": "code",
   "execution_count": 65,
   "metadata": {},
   "outputs": [],
   "source": [
    "jan_total = jan_1 + jan_2 + jan_3\n",
    "feb_total = feb_1 + feb_2 + feb_3\n",
    "mar_total = mar_1 + mar_2 + mar_3\n",
    "apr_total = apr_1 + apr_2 + apr_3\n",
    "may_total = may_1 + may_2 + may_3\n",
    "jun_total = jun_1 + jun_2 + jun_3\n",
    "jul_total = jul_1 + jul_2 + jul_3\n",
    "aug_total = aug_1 + aug_2 + aug_3\n",
    "sep_total = sep_1 + sep_2 + sep_3\n",
    "oct_total = oct_1 + oct_2 + oct_3\n",
    "nov_total = nov_1 + nov_2 + nov_3\n",
    "dec_total = dec_1 + dec_2 + dec_3\n",
    "\n",
    "months_total = [len(jan_total), len(feb_total), len(mar_total), len(apr_total), len(may_total), len(jun_total), len(jul_total), len(aug_total), len(sep_total), len(oct_total), len(nov_total), len(dec_total)]"
   ]
  },
  {
   "cell_type": "code",
   "execution_count": 67,
   "metadata": {},
   "outputs": [
    {
     "data": {
      "text/plain": [
       "[<matplotlib.lines.Line2D at 0x1dd2ca6df08>]"
      ]
     },
     "execution_count": 67,
     "metadata": {},
     "output_type": "execute_result"
    },
    {
     "data": {
      "image/png": "[encoded data removed]",
      "text/plain": [
       "<Figure size 432x288 with 1 Axes>"
      ]
     },
     "metadata": {
      "needs_background": "light"
     },
     "output_type": "display_data"
    }
   ],
   "source": [
    "plt.plot(x_axis, months_total)"
   ]
  },
  {
   "cell_type": "code",
   "execution_count": null,
   "metadata": {},
   "outputs": [],
   "source": []
  }
 ],
 "metadata": {
  "kernelspec": {
   "display_name": "Python 3",
   "language": "python",
   "name": "python3"
  },
  "language_info": {
   "codemirror_mode": {
    "name": "ipython",
    "version": 3
   },
   "file_extension": ".py",
   "mimetype": "text/x-python",
   "name": "python",
   "nbconvert_exporter": "python",
   "pygments_lexer": "ipython3",
   "version": "3.7.4"
  }
 },
 "nbformat": 4,
 "nbformat_minor": 2
}
